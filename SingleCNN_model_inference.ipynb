{
  "cells": [
    {
      "cell_type": "markdown",
      "metadata": {
        "id": "6yrO75-UERsy"
      },
      "source": [
        "# **Requirements and Imports**"
      ]
    },
    {
      "cell_type": "code",
      "execution_count": 2,
      "metadata": {
        "id": "9Q-MNERU1GRy"
      },
      "outputs": [],
      "source": [
        "import tensorflow as tf\n",
        "import numpy as np\n",
        "import pandas as pd\n",
        "import pickle\n",
        "\n",
        "import os\n",
        "from tqdm.notebook import tqdm\n",
        "\n",
        "from matplotlib import pyplot as plt\n",
        "\n",
        "import time\n",
        "import datetime as dt "
      ]
    },
    {
      "cell_type": "code",
      "execution_count": 3,
      "metadata": {
        "colab": {
          "base_uri": "https://localhost:8080/"
        },
        "id": "0iyft0Q-8Pyt",
        "outputId": "344b52e4-65ed-475c-cd84-034b7a0a392b"
      },
      "outputs": [
        {
          "output_type": "stream",
          "name": "stdout",
          "text": [
            "Mounted at /gdrive\n",
            "Num GPUs Available:  1\n"
          ]
        }
      ],
      "source": [
        "from google.colab import drive\n",
        "drive.mount('/gdrive', force_remount=True)\n",
        "\n",
        "import glob\n",
        "import random\n",
        "print(\"Num GPUs Available: \", len(tf.config.list_physical_devices('GPU')))"
      ]
    },
    {
      "cell_type": "code",
      "execution_count": 4,
      "metadata": {
        "id": "IujxEjBcj7s9"
      },
      "outputs": [],
      "source": [
        "from tensorflow.keras import datasets, layers, models, losses\n",
        "from tqdm.keras import TqdmCallback\n",
        "\n",
        "random_seed = 100\n",
        "np.random.seed(random_seed)\n",
        "random.seed(random_seed)"
      ]
    },
    {
      "cell_type": "markdown",
      "metadata": {
        "id": "mO1Nny0znU4d"
      },
      "source": [
        "# **Model Definition and Setup**"
      ]
    },
    {
      "cell_type": "code",
      "execution_count": 5,
      "metadata": {
        "id": "UOmWTE7EnZZ7"
      },
      "outputs": [],
      "source": [
        "data_augmentation = tf.keras.Sequential([\n",
        "      layers.experimental.preprocessing.RandomFlip(\"horizontal_and_vertical\"),\n",
        "      layers.experimental.preprocessing.RandomRotation(0.2),\n",
        "    ])\n",
        "\n",
        "def create_model(data_augmentation=None, l2_reg_factor= 0.001, dropout=0.3):\n",
        "  #with tf.device(\"/gpu:0\"):\n",
        "  l2_regularizer = tf.keras.regularizers.l2(l2_reg_factor)\n",
        "\n",
        "  image_1_input = tf.keras.Input(shape=(image_size[0], image_size[1], 3), name='image_1_input')\n",
        "\n",
        "  # Rescale\n",
        "  X = tf.keras.applications.mobilenet.preprocess_input(image_1_input)\n",
        "\n",
        "  # If we want built in data augmentation\n",
        "  if data_augmentation != None:\n",
        "    X = data_augmentation(X)\n",
        "\n",
        "  # One convolutional layer\n",
        "  X = layers.Conv2D(3, kernel_size=(5, 5), padding='same', kernel_regularizer = l2_regularizer)(X)\n",
        "  \n",
        "  #activation\n",
        "  X = layers.ReLU()(X)\n",
        "  #dropout\n",
        "  X = layers.Dropout(dropout)(X)\n",
        "\n",
        "  # Max pooling layer\n",
        "  X = layers.MaxPooling2D()(X)\n",
        "  \n",
        "  pretrained_model = tf.keras.applications.Xception(\n",
        "    weights='imagenet',  # Load weights pre-trained on ImageNet.\n",
        "    input_shape=(256, 256, 3),\n",
        "    include_top=False)  # Do not include the ImageNet classifier at the top.\n",
        "\n",
        "  pretrained_model.trainable=False #\n",
        "\n",
        "  X = pretrained_model(X, training=False)\n",
        "\n",
        "  # Flattening\n",
        "  X = tf.keras.layers.GlobalAveragePooling2D()(X)\n",
        "\n",
        "  # First dense\n",
        "  X = layers.Dense(512, kernel_regularizer = l2_regularizer)(X)\n",
        "  X = layers.ReLU()(X)\n",
        "  X = layers.Dropout(dropout)(X)\n",
        "\n",
        "  # Output\n",
        "  outputs = layers.Dense(1)(X)\n",
        "\n",
        "  model = tf.keras.Model(inputs=[image_1_input], outputs=outputs)\n",
        "  return model\n",
        "\n",
        "def get_compiled_model(data_augmentation= None, l2_reg_factor= 0.001, dropout=0.3):\n",
        "      loss_object = tf.keras.losses.BinaryCrossentropy(from_logits=True)\n",
        "      model = create_model(data_augmentation, l2_reg_factor, dropout)\n",
        "      optimizer = tf.keras.optimizers.Adam(learning_rate=lrate)\n",
        "      model.compile(optimizer = optimizer,\n",
        "                    loss=loss_object,\n",
        "                    metrics = [tf.keras.metrics.BinaryAccuracy(threshold=.0)])\n",
        "      return model\n",
        "      \n",
        "def make_or_restore_model(infolder, data_augmentation= None, l2_reg_factor= 0.001, dropout=0.3):\n",
        "    # Either restore the latest model, or create a fresh one\n",
        "    # if there is no checkpoint available.\n",
        "    checkpoints = [os.path.join(infolder, name) for name in os.listdir(infolder)]\n",
        "    if checkpoints:\n",
        "        latest_checkpoint = max(checkpoints, key=os.path.getmtime)\n",
        "        print(\"Restoring from\", latest_checkpoint)\n",
        "        return tf.keras.models.load_model(latest_checkpoint)    \n",
        "    else:\n",
        "      print(\"Creating a new model\")\n",
        "      return get_compiled_model(data_augmentation, l2_reg_factor, dropout)"
      ]
    },
    {
      "cell_type": "markdown",
      "source": [
        "# Classification data testing"
      ],
      "metadata": {
        "id": "Ql6Tf92NXbuR"
      }
    },
    {
      "cell_type": "code",
      "source": [
        "save_folder = '/gdrive/Shareddrives/land-app-public/model_weights/single_cnn/'\n",
        "model = make_or_restore_model(save_folder, l2_reg_factor=0, dropout=0.5)"
      ],
      "metadata": {
        "colab": {
          "base_uri": "https://localhost:8080/"
        },
        "id": "JyZdDUSOXvTI",
        "outputId": "905bbd41-537d-424c-f694-24106e3ba5dc"
      },
      "execution_count": 9,
      "outputs": [
        {
          "output_type": "stream",
          "name": "stdout",
          "text": [
            "Restoring from /gdrive/Shareddrives/land-app-public/model_weights/single_cnn/best_model\n"
          ]
        }
      ]
    },
    {
      "cell_type": "code",
      "source": [
        "labels = os.listdir('/gdrive/Shareddrives/land-app-public/training_data/labels')\n",
        "labels = [l.split('.')[0] for l in labels]"
      ],
      "metadata": {
        "id": "LpYFNC6yYFEb"
      },
      "execution_count": 6,
      "outputs": []
    },
    {
      "cell_type": "code",
      "source": [
        "image_path = '/gdrive/Shareddrives/land-app-public/test_data/classification_test/images'\n",
        "images = os.listdir(image_path)"
      ],
      "metadata": {
        "id": "HuvM38S-YVsa"
      },
      "execution_count": 8,
      "outputs": []
    },
    {
      "cell_type": "code",
      "source": [
        "from sklearn.metrics import precision_recall_curve, auc\n",
        "\n",
        "image_size = (512, 512)\n",
        "img_height = image_size[1]\n",
        "img_width = image_size[0]\n",
        "def decode_img(img):\n",
        "  # convert the compressed string to a 3D uint8 tensor\n",
        "  img = tf.io.decode_png(img, channels=3)\n",
        "  # resize the image to the desired size\n",
        "  return tf.image.resize(img, [img_height, img_width])\n",
        "\n",
        "def load_img(file_path):\n",
        "  #label = get_label(file_path)\n",
        "  # load the raw data from the file as a string\n",
        "  img = tf.io.read_file(file_path)\n",
        "  img = decode_img(img)\n",
        "  return img\n",
        "\n",
        "precs = []\n",
        "recs = []\n",
        "scores_list = []\n",
        "actual_list = []\n",
        "\n",
        "for img in tqdm(images):\n",
        "  if img.split('.')[0] in labels:\n",
        "    y =[1]\n",
        "  else:\n",
        "    y= [0]\n",
        "\n",
        "  x = load_img(os.path.join(image_path, img))\n",
        "  \n",
        "  output = model(x[np.newaxis, ...], training=False)\n",
        "\n",
        "  output= tf.math.sigmoid(output)\n",
        "  actual_list += y\n",
        "  scores_list += list(output.numpy())\n",
        "\n",
        "p,r,_ = precision_recall_curve(actual_list, scores_list)\n",
        "precs.append(p)\n",
        "recs.append(r)"
      ],
      "metadata": {
        "colab": {
          "base_uri": "https://localhost:8080/",
          "height": 49,
          "referenced_widgets": [
            "ddde25e5e48f49b290f4305caa16ba98",
            "12c587d658ba48b2acb46228e4aaca6a",
            "624b26bb247f4cb7a3c0e30f54bd80f8",
            "6d12060cbc4e4a0492d84c094dbeea1b",
            "d723c799a4ef40b08eecc75fc8090103",
            "9b17ad0f85b9457abafd60f3c2cdf7a3",
            "5b47501a66bd467bb3291a8a46c6fe06",
            "f2da037b86684c8fa436da96dd5b2b6b",
            "8d642966d7224a4aaf38fa01b6d1ea32",
            "9a2091eddfa043c6af697e77e566c990",
            "5d7788d2fde1489d85de78df139e2e85"
          ]
        },
        "id": "RkRCB266YqO-",
        "outputId": "11301867-8c6d-4a5d-e4c6-0c02d8c2f464"
      },
      "execution_count": null,
      "outputs": [
        {
          "output_type": "display_data",
          "data": {
            "text/plain": [
              "  0%|          | 0/441 [00:00<?, ?it/s]"
            ],
            "application/vnd.jupyter.widget-view+json": {
              "version_major": 2,
              "version_minor": 0,
              "model_id": "ddde25e5e48f49b290f4305caa16ba98"
            }
          },
          "metadata": {}
        }
      ]
    },
    {
      "cell_type": "code",
      "source": [
        "results_path = './'\n",
        "if not os.path.exists(results_path):\n",
        "  os.mkdir(results_path)\n",
        "np.save(results_path+'precisions.npy', precs[0])\n",
        "np.save(results_path+'recalls.npy', recs[0])\n"
      ],
      "metadata": {
        "id": "kw4EBn-naCMk"
      },
      "execution_count": null,
      "outputs": []
    },
    {
      "cell_type": "code",
      "source": [
        "np.save(results_path+'scores.npy', np.asarray(scores_list))\n",
        "np.save(results_path+'labels.npy', np.asarray(actual_list))\n"
      ],
      "metadata": {
        "id": "m3mXcM5GaEqC"
      },
      "execution_count": null,
      "outputs": []
    },
    {
      "cell_type": "code",
      "source": [
        "#PR curves at epoch 75\n",
        "fig, ax = plt.subplots(1,1)\n",
        "\n",
        "name = 'single_image_model4_0.5drop_filtering'\n",
        "#auc = auc(p, r)\n",
        "ax.plot(p, r,)# label='{}, auc {:.3f}'.format(name, auc))\n",
        "\n",
        "\n",
        "ax.legend()\n",
        "ax.set_xlabel(\"Recall\")\n",
        "ax.set_ylabel(\"Precision\")\n",
        "fig.suptitle(\"PR curve of best models\")\n",
        "fig.show()"
      ],
      "metadata": {
        "colab": {
          "base_uri": "https://localhost:8080/",
          "height": 326
        },
        "id": "34pXnVoNds0M",
        "outputId": "2f5444ca-417f-4595-eb1e-5b90ffbad840"
      },
      "execution_count": null,
      "outputs": [
        {
          "output_type": "stream",
          "name": "stderr",
          "text": [
            "WARNING:matplotlib.legend:No handles with labels found to put in legend.\n"
          ]
        },
        {
          "output_type": "display_data",
          "data": {
            "text/plain": [
              "<Figure size 432x288 with 1 Axes>"
            ],
            "image/png": "[encoded data removed]"
          },
          "metadata": {
            "needs_background": "light"
          }
        }
      ]
    },
    {
      "cell_type": "code",
      "source": [],
      "metadata": {
        "id": "NPvvW_9sd20l"
      },
      "execution_count": null,
      "outputs": []
    }
  ],
  "metadata": {
    "accelerator": "GPU",
    "colab": {
      "collapsed_sections": [],
      "machine_shape": "hm",
      "provenance": []
    },
    "kernelspec": {
      "display_name": "Python 3",
      "name": "python3"
    },
    "language_info": {
      "name": "python"
    },
    "widgets": {
      "application/vnd.jupyter.widget-state+json": {
        "ddde25e5e48f49b290f4305caa16ba98": {
          "model_module": "@jupyter-widgets/controls",
          "model_name": "HBoxModel",
          "model_module_version": "1.5.0",
          "state": {
            "_dom_classes": [],
            "_model_module": "@jupyter-widgets/controls",
            "_model_module_version": "1.5.0",
            "_model_name": "HBoxModel",
            "_view_count": null,
            "_view_module": "@jupyter-widgets/controls",
            "_view_module_version": "1.5.0",
            "_view_name": "HBoxView",
            "box_style": "",
            "children": [
              "IPY_MODEL_12c587d658ba48b2acb46228e4aaca6a",
              "IPY_MODEL_624b26bb247f4cb7a3c0e30f54bd80f8",
              "IPY_MODEL_6d12060cbc4e4a0492d84c094dbeea1b"
            ],
            "layout": "IPY_MODEL_d723c799a4ef40b08eecc75fc8090103"
          }
        },
        "12c587d658ba48b2acb46228e4aaca6a": {
          "model_module": "@jupyter-widgets/controls",
          "model_name": "HTMLModel",
          "model_module_version": "1.5.0",
          "state": {
            "_dom_classes": [],
            "_model_module": "@jupyter-widgets/controls",
            "_model_module_version": "1.5.0",
            "_model_name": "HTMLModel",
            "_view_count": null,
            "_view_module": "@jupyter-widgets/controls",
            "_view_module_version": "1.5.0",
            "_view_name": "HTMLView",
            "description": "",
            "description_tooltip": null,
            "layout": "IPY_MODEL_9b17ad0f85b9457abafd60f3c2cdf7a3",
            "placeholder": "​",
            "style": "IPY_MODEL_5b47501a66bd467bb3291a8a46c6fe06",
            "value": "100%"
          }
        },
        "624b26bb247f4cb7a3c0e30f54bd80f8": {
          "model_module": "@jupyter-widgets/controls",
          "model_name": "FloatProgressModel",
          "model_module_version": "1.5.0",
          "state": {
            "_dom_classes": [],
            "_model_module": "@jupyter-widgets/controls",
            "_model_module_version": "1.5.0",
            "_model_name": "FloatProgressModel",
            "_view_count": null,
            "_view_module": "@jupyter-widgets/controls",
            "_view_module_version": "1.5.0",
            "_view_name": "ProgressView",
            "bar_style": "success",
            "description": "",
            "description_tooltip": null,
            "layout": "IPY_MODEL_f2da037b86684c8fa436da96dd5b2b6b",
            "max": 441,
            "min": 0,
            "orientation": "horizontal",
            "style": "IPY_MODEL_8d642966d7224a4aaf38fa01b6d1ea32",
            "value": 441
          }
        },
        "6d12060cbc4e4a0492d84c094dbeea1b": {
          "model_module": "@jupyter-widgets/controls",
          "model_name": "HTMLModel",
          "model_module_version": "1.5.0",
          "state": {
            "_dom_classes": [],
            "_model_module": "@jupyter-widgets/controls",
            "_model_module_version": "1.5.0",
            "_model_name": "HTMLModel",
            "_view_count": null,
            "_view_module": "@jupyter-widgets/controls",
            "_view_module_version": "1.5.0",
            "_view_name": "HTMLView",
            "description": "",
            "description_tooltip": null,
            "layout": "IPY_MODEL_9a2091eddfa043c6af697e77e566c990",
            "placeholder": "​",
            "style": "IPY_MODEL_5d7788d2fde1489d85de78df139e2e85",
            "value": " 441/441 [00:52&lt;00:00, 10.93it/s]"
          }
        },
        "d723c799a4ef40b08eecc75fc8090103": {
          "model_module": "@jupyter-widgets/base",
          "model_name": "LayoutModel",
          "model_module_version": "1.2.0",
          "state": {
            "_model_module": "@jupyter-widgets/base",
            "_model_module_version": "1.2.0",
            "_model_name": "LayoutModel",
            "_view_count": null,
            "_view_module": "@jupyter-widgets/base",
            "_view_module_version": "1.2.0",
            "_view_name": "LayoutView",
            "align_content": null,
            "align_items": null,
            "align_self": null,
            "border": null,
            "bottom": null,
            "display": null,
            "flex": null,
            "flex_flow": null,
            "grid_area": null,
            "grid_auto_columns": null,
            "grid_auto_flow": null,
            "grid_auto_rows": null,
            "grid_column": null,
            "grid_gap": null,
            "grid_row": null,
            "grid_template_areas": null,
            "grid_template_columns": null,
            "grid_template_rows": null,
            "height": null,
            "justify_content": null,
            "justify_items": null,
            "left": null,
            "margin": null,
            "max_height": null,
            "max_width": null,
            "min_height": null,
            "min_width": null,
            "object_fit": null,
            "object_position": null,
            "order": null,
            "overflow": null,
            "overflow_x": null,
            "overflow_y": null,
            "padding": null,
            "right": null,
            "top": null,
            "visibility": null,
            "width": null
          }
        },
        "9b17ad0f85b9457abafd60f3c2cdf7a3": {
          "model_module": "@jupyter-widgets/base",
          "model_name": "LayoutModel",
          "model_module_version": "1.2.0",
          "state": {
            "_model_module": "@jupyter-widgets/base",
            "_model_module_version": "1.2.0",
            "_model_name": "LayoutModel",
            "_view_count": null,
            "_view_module": "@jupyter-widgets/base",
            "_view_module_version": "1.2.0",
            "_view_name": "LayoutView",
            "align_content": null,
            "align_items": null,
            "align_self": null,
            "border": null,
            "bottom": null,
            "display": null,
            "flex": null,
            "flex_flow": null,
            "grid_area": null,
            "grid_auto_columns": null,
            "grid_auto_flow": null,
            "grid_auto_rows": null,
            "grid_column": null,
            "grid_gap": null,
            "grid_row": null,
            "grid_template_areas": null,
            "grid_template_columns": null,
            "grid_template_rows": null,
            "height": null,
            "justify_content": null,
            "justify_items": null,
            "left": null,
            "margin": null,
            "max_height": null,
            "max_width": null,
            "min_height": null,
            "min_width": null,
            "object_fit": null,
            "object_position": null,
            "order": null,
            "overflow": null,
            "overflow_x": null,
            "overflow_y": null,
            "padding": null,
            "right": null,
            "top": null,
            "visibility": null,
            "width": null
          }
        },
        "5b47501a66bd467bb3291a8a46c6fe06": {
          "model_module": "@jupyter-widgets/controls",
          "model_name": "DescriptionStyleModel",
          "model_module_version": "1.5.0",
          "state": {
            "_model_module": "@jupyter-widgets/controls",
            "_model_module_version": "1.5.0",
            "_model_name": "DescriptionStyleModel",
            "_view_count": null,
            "_view_module": "@jupyter-widgets/base",
            "_view_module_version": "1.2.0",
            "_view_name": "StyleView",
            "description_width": ""
          }
        },
        "f2da037b86684c8fa436da96dd5b2b6b": {
          "model_module": "@jupyter-widgets/base",
          "model_name": "LayoutModel",
          "model_module_version": "1.2.0",
          "state": {
            "_model_module": "@jupyter-widgets/base",
            "_model_module_version": "1.2.0",
            "_model_name": "LayoutModel",
            "_view_count": null,
            "_view_module": "@jupyter-widgets/base",
            "_view_module_version": "1.2.0",
            "_view_name": "LayoutView",
            "align_content": null,
            "align_items": null,
            "align_self": null,
            "border": null,
            "bottom": null,
            "display": null,
            "flex": null,
            "flex_flow": null,
            "grid_area": null,
            "grid_auto_columns": null,
            "grid_auto_flow": null,
            "grid_auto_rows": null,
            "grid_column": null,
            "grid_gap": null,
            "grid_row": null,
            "grid_template_areas": null,
            "grid_template_columns": null,
            "grid_template_rows": null,
            "height": null,
            "justify_content": null,
            "justify_items": null,
            "left": null,
            "margin": null,
            "max_height": null,
            "max_width": null,
            "min_height": null,
            "min_width": null,
            "object_fit": null,
            "object_position": null,
            "order": null,
            "overflow": null,
            "overflow_x": null,
            "overflow_y": null,
            "padding": null,
            "right": null,
            "top": null,
            "visibility": null,
            "width": null
          }
        },
        "8d642966d7224a4aaf38fa01b6d1ea32": {
          "model_module": "@jupyter-widgets/controls",
          "model_name": "ProgressStyleModel",
          "model_module_version": "1.5.0",
          "state": {
            "_model_module": "@jupyter-widgets/controls",
            "_model_module_version": "1.5.0",
            "_model_name": "ProgressStyleModel",
            "_view_count": null,
            "_view_module": "@jupyter-widgets/base",
            "_view_module_version": "1.2.0",
            "_view_name": "StyleView",
            "bar_color": null,
            "description_width": ""
          }
        },
        "9a2091eddfa043c6af697e77e566c990": {
          "model_module": "@jupyter-widgets/base",
          "model_name": "LayoutModel",
          "model_module_version": "1.2.0",
          "state": {
            "_model_module": "@jupyter-widgets/base",
            "_model_module_version": "1.2.0",
            "_model_name": "LayoutModel",
            "_view_count": null,
            "_view_module": "@jupyter-widgets/base",
            "_view_module_version": "1.2.0",
            "_view_name": "LayoutView",
            "align_content": null,
            "align_items": null,
            "align_self": null,
            "border": null,
            "bottom": null,
            "display": null,
            "flex": null,
            "flex_flow": null,
            "grid_area": null,
            "grid_auto_columns": null,
            "grid_auto_flow": null,
            "grid_auto_rows": null,
            "grid_column": null,
            "grid_gap": null,
            "grid_row": null,
            "grid_template_areas": null,
            "grid_template_columns": null,
            "grid_template_rows": null,
            "height": null,
            "justify_content": null,
            "justify_items": null,
            "left": null,
            "margin": null,
            "max_height": null,
            "max_width": null,
            "min_height": null,
            "min_width": null,
            "object_fit": null,
            "object_position": null,
            "order": null,
            "overflow": null,
            "overflow_x": null,
            "overflow_y": null,
            "padding": null,
            "right": null,
            "top": null,
            "visibility": null,
            "width": null
          }
        },
        "5d7788d2fde1489d85de78df139e2e85": {
          "model_module": "@jupyter-widgets/controls",
          "model_name": "DescriptionStyleModel",
          "model_module_version": "1.5.0",
          "state": {
            "_model_module": "@jupyter-widgets/controls",
            "_model_module_version": "1.5.0",
            "_model_name": "DescriptionStyleModel",
            "_view_count": null,
            "_view_module": "@jupyter-widgets/base",
            "_view_module_version": "1.2.0",
            "_view_name": "StyleView",
            "description_width": ""
          }
        }
      }
    }
  },
  "nbformat": 4,
  "nbformat_minor": 0
}