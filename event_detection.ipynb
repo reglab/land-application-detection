{
 "cells": [
  {
   "cell_type": "code",
   "execution_count": null,
   "metadata": {
    "colab": {
     "base_uri": "https://localhost:8080/"
    },
    "executionInfo": {
     "elapsed": 27848,
     "status": "ok",
     "timestamp": 1653415573774,
     "user": {
      "displayName": "Ben Chugg",
      "userId": "18065198361409364457"
     },
     "user_tz": 420
    },
    "id": "KyEknAppKi3w",
    "outputId": "53522eec-a0d0-4e8f-dc61-1077484f4648"
   },
   "outputs": [],
   "source": [
    "from google.colab import drive\n",
    "drive.mount('/gdrive')"
   ]
  },
  {
   "cell_type": "code",
   "execution_count": null,
   "metadata": {
    "executionInfo": {
     "elapsed": 10,
     "status": "ok",
     "timestamp": 1653415573775,
     "user": {
      "displayName": "Ben Chugg",
      "userId": "18065198361409364457"
     },
     "user_tz": 420
    },
    "id": "o8wP9OhpIRdL"
   },
   "outputs": [],
   "source": [
    "import os \n",
    "import copy \n",
    "import numpy as np \n",
    "import matplotlib.pyplot as plt \n",
    "from datetime import datetime\n",
    "from tqdm.notebook import tqdm "
   ]
  },
  {
   "cell_type": "markdown",
   "metadata": {},
   "source": [
    "# Event Detection\n",
    "This notebook gathers predictions made by the model and aggregates them into _events_, i.e., application events which span multiple images. This is done by naively assuming that predictions in neighbouring images (by time) are the same event if the prediction bounding boxes intersect. "
   ]
  },
  {
   "cell_type": "markdown",
   "metadata": {
    "id": "WY2mj8-pIYOL"
   },
   "source": [
    "## Helper Functions for aggregating predictions"
   ]
  },
  {
   "cell_type": "code",
   "execution_count": null,
   "metadata": {
    "executionInfo": {
     "elapsed": 183,
     "status": "ok",
     "timestamp": 1653415575876,
     "user": {
      "displayName": "Ben Chugg",
      "userId": "18065198361409364457"
     },
     "user_tz": 420
    },
    "id": "GezGpwCLx25r"
   },
   "outputs": [],
   "source": [
    "def rect_intersect(r1, r2): \n",
    "  \"\"\"Return True iff given rectangles intersect. \n",
    "  rectangles defined as [x_center, y_center, width, height]\"\"\"\n",
    "\n",
    "  [x1, y1, w1, h1] = r1 \n",
    "  [x2, y2, w2, h2] = r2\n",
    "\n",
    "  x1_left = x1 - w1/2 \n",
    "  x1_right = x1 + w1/2 \n",
    "  x2_left = x2 - w2/2 \n",
    "  x2_right = x2 + w2/2 \n",
    "\n",
    "  # check if either is to the left of the other \n",
    "  if (x1_right < x2_left) or (x2_right < x1_left): \n",
    "    return False\n",
    "\n",
    "  top1 = y1 + h1/2 \n",
    "  bottom1 = y1 - h1/2 \n",
    "  top2 = y2 + h2/2 \n",
    "  bottom2 = y2 - h2/2   \n",
    "\n",
    "  # check if either is below the other \n",
    "  if top1 < bottom2 or top2 < bottom1: \n",
    "    return False \n",
    "\n",
    "  return True \n",
    "\n",
    "  \n"
   ]
  },
  {
   "cell_type": "code",
   "execution_count": null,
   "metadata": {
    "executionInfo": {
     "elapsed": 217,
     "status": "ok",
     "timestamp": 1653415578220,
     "user": {
      "displayName": "Ben Chugg",
      "userId": "18065198361409364457"
     },
     "user_tz": 420
    },
    "id": "MYCYCFlb_Omy"
   },
   "outputs": [],
   "source": [
    "def aggregate_instances(labels_dict, threshold=0): \n",
    "    \"\"\"Given a dictionary of detections (created below), aggregate the \n",
    "    individual image-level predictions into events (i.e., instances)\"\"\"\n",
    "\n",
    "  instance_dict = {}\n",
    "  for loc, sdict in labels_dict.items():\n",
    "    for season, ddict in sdict.items():\n",
    "\n",
    "      dates = sorted(ddict.keys())\n",
    "      \n",
    "      # keep track of instances for this season\n",
    "      all_instances = [] \n",
    "\n",
    "      for i, date in enumerate(dates): # all images in season in correct order \n",
    "\n",
    "        # print(i, labels_dict[loc][season][date])\n",
    "\n",
    "        if not len(labels_dict[loc][season][date]): \n",
    "          # end all instances, this date has no labels\n",
    "          for inst in all_instances: \n",
    "            if inst['active']: \n",
    "              inst['active'] = False \n",
    "              inst['end'] = dates[i-1] \n",
    "          continue\n",
    "\n",
    "        # grab coordinates (labels), images, and confidences \n",
    "        for labels_ims in labels_dict[loc][season][date]:\n",
    "          \n",
    "          if len(labels_ims) == 2: \n",
    "            label_list, im = labels_ims[0], labels_ims[1]\n",
    "            confs = [1]*len(label_list)\n",
    "          else: \n",
    "            label_list, im = labels_ims[0], labels_ims[1]\n",
    "            confs = labels_ims[2]\n",
    "            conf_bools = np.array([c >= threshold for c in confs]) \n",
    "            label_list = np.array(label_list)[conf_bools]\n",
    "            confs = np.array(confs)[conf_bools]\n",
    "            assert len(confs) == len(label_list) == np.sum(conf_bools)\n",
    "\n",
    "\n",
    "          # Check which instances get extended \n",
    "          used_labels = [] # track which labels get used  \n",
    "          for inst in all_instances: \n",
    "            if not inst['active']: continue # instance already ended \n",
    "            continued = False \n",
    "            for j, coords in enumerate(label_list): \n",
    "              any_int = np.sum([rect_intersect(coords, c) for c in inst['coords']]) \n",
    "              if any_int: # this label is part of current instance \n",
    "                inst['ims'].append(im) \n",
    "                inst['coords'].append(coords)\n",
    "                inst['conf'] = max(inst['conf'], confs[j]) # confidence is maximum conf over all detections\n",
    "                continued = True \n",
    "                used_labels.append(j)\n",
    "            if not continued: # this instance ended, no labels matched \n",
    "              inst['active'] = False \n",
    "              inst['end'] = dates[i-1] if inst['start'] < date else date\n",
    "\n",
    "          # Make new instances from any unused labels \n",
    "          for j, coords in enumerate(label_list): \n",
    "            if j in used_labels: continue \n",
    "            new_inst = {'start': date, \n",
    "                        'active': True, \n",
    "                        'ims': [im], \n",
    "                        'coords': [coords], \n",
    "                        'conf': confs[j]}\n",
    "            #print('creating new inst', date, new_inst)\n",
    "            all_instances.append(new_inst)\n",
    "\n",
    "\n",
    "      # End of season, so we end all instances \n",
    "      for inst in all_instances: \n",
    "        if inst['active']: \n",
    "          inst['active'] = False \n",
    "          inst['end'] = dates[-1]\n",
    "\n",
    "      if loc not in instance_dict.keys():\n",
    "        instance_dict[loc] = {}\n",
    "      \n",
    "      instance_dict[loc][season] = all_instances   \n",
    "\n",
    "  return instance_dict \n"
   ]
  },
  {
   "cell_type": "code",
   "execution_count": null,
   "metadata": {
    "executionInfo": {
     "elapsed": 11138,
     "status": "ok",
     "timestamp": 1653415592290,
     "user": {
      "displayName": "Ben Chugg",
      "userId": "18065198361409364457"
     },
     "user_tz": 420
    },
    "id": "5fsrNK2ggeGp"
   },
   "outputs": [],
   "source": [
    "boxing_pth = '/gdrive/Shareddrives/land-app-groundtruth/boxing_task'\n",
    "test_ims = os.path.join(boxing_pth, 'classification_task/images')\n",
    "\n",
    "date_dict = {}\n",
    "for im in os.listdir(test_ims): \n",
    "  loc = im.split('_')[1]\n",
    "  date = datetime.strptime(im.split('_')[2], '%Y%m%d')\n",
    "  season = date.year if date.month > 6 else date.year - 1\n",
    "\n",
    "  if loc not in date_dict.keys(): \n",
    "    date_dict[loc] = {2018: {}, 2019: {}, 2020: {}}\n",
    "\n",
    "  date_dict[loc][season][date] = []\n"
   ]
  },
  {
   "cell_type": "markdown",
   "metadata": {
    "id": "llMh0UimKDnV"
   },
   "source": [
    "## Ground truth Events"
   ]
  },
  {
   "cell_type": "code",
   "execution_count": null,
   "metadata": {
    "executionInfo": {
     "elapsed": 71603,
     "status": "ok",
     "timestamp": 1653415663891,
     "user": {
      "displayName": "Ben Chugg",
      "userId": "18065198361409364457"
     },
     "user_tz": 420
    },
    "id": "339YGjthHpOd"
   },
   "outputs": [],
   "source": [
    "# Create events from ground truth boxes \n",
    "\n",
    "with open(os.path.join(boxing_pth, 'test.txt'), 'r') as f: \n",
    "  test_set = [l.strip() for l in f.readlines()]\n",
    "\n",
    "true_labels = copy.deepcopy(date_dict)\n",
    "\n",
    "for im in test_set: \n",
    "  txt_name = im.split(os.sep)[-1].replace('.png', '.txt')\n",
    "  date = datetime.strptime(txt_name.split('_')[2], '%Y%m%d')  \n",
    "  loc = txt_name.split('_')[1]\n",
    "  season = date.year if date.month > 6 else date.year - 1 \n",
    "\n",
    "  with open(os.path.join(boxing_pth, 'labels', txt_name)) as f: \n",
    "    lbls = []\n",
    "    for l in [l.strip() for l in f.readlines()]: \n",
    "      arr = l.split(' ')\n",
    "      lbls.append([float(x) for x in arr[1:]])\n",
    "\n",
    "  true_labels[loc][season][date].append((lbls, im.split(os.sep)[-1]))"
   ]
  },
  {
   "cell_type": "code",
   "execution_count": null,
   "metadata": {
    "id": "iXeICT6_NEck"
   },
   "outputs": [],
   "source": [
    "instance_dict = aggregate_instances(true_labels, threshold=0.5)"
   ]
  },
  {
   "cell_type": "markdown",
   "metadata": {
    "id": "_KthzNFwKLz2"
   },
   "source": [
    "## Predicted events"
   ]
  },
  {
   "cell_type": "code",
   "execution_count": null,
   "metadata": {
    "executionInfo": {
     "elapsed": 14315,
     "status": "ok",
     "timestamp": 1653415678203,
     "user": {
      "displayName": "Ben Chugg",
      "userId": "18065198361409364457"
     },
     "user_tz": 420
    },
    "id": "-i6VXFZwMy28"
   },
   "outputs": [],
   "source": [
    "# Predictions\n",
    "\n",
    "exp = '' # model output folder\n",
    "\n",
    "pred_labels = copy.deepcopy(date_dict)\n",
    "\n",
    "for txt in os.listdir(os.path.join(exp, 'labels')): \n",
    "  loc = txt.split('_')[1] \n",
    "  date = datetime.strptime(txt.split('_')[2], '%Y%m%d') \n",
    "  season = date.year if date.month > 6 else date.year - 1 \n",
    "  \n",
    "  with open(os.path.join(exp, 'labels', txt), 'r') as f: \n",
    "    plbls, confs = [], []\n",
    "    for l in [l.strip() for l in f.readlines()]: \n",
    "      arr = l.split(' ')\n",
    "      plbls.append([float(x) for x in arr[1:-1]])\n",
    "      confs.append(float(arr[-1]))\n",
    "\n",
    "  pred_labels[loc][season][date].append((plbls, txt.replace('.txt', '.png'), confs))"
   ]
  },
  {
   "cell_type": "code",
   "execution_count": null,
   "metadata": {
    "id": "X31-57Vt-k1x"
   },
   "outputs": [],
   "source": [
    "p_instance_dict = aggregate_instances(pred_labels, threshold=0.5)"
   ]
  },
  {
   "cell_type": "markdown",
   "metadata": {
    "id": "Vgy-rCrBNPY_"
   },
   "source": [
    "## Compare ground truth and predictions"
   ]
  },
  {
   "cell_type": "markdown",
   "metadata": {
    "id": "klUEQTRrPTwm"
   },
   "source": [
    "- True positive if predicted instance is the first to overlap with true instance \n",
    "- False positive if predicted instance overlaps with true instance that has already been counted "
   ]
  },
  {
   "cell_type": "code",
   "execution_count": null,
   "metadata": {
    "executionInfo": {
     "elapsed": 19,
     "status": "ok",
     "timestamp": 1653415678204,
     "user": {
      "displayName": "Ben Chugg",
      "userId": "18065198361409364457"
     },
     "user_tz": 420
    },
    "id": "K2gpmjZ6d59t"
   },
   "outputs": [],
   "source": [
    "def is_match(inst, p_inst): \n",
    "\n",
    "  for c1 in p_inst['coords']: \n",
    "    for c2 in inst['coords']: \n",
    "      if rect_intersect(c1, c2): \n",
    "        return True \n",
    "  return False "
   ]
  },
  {
   "cell_type": "code",
   "execution_count": null,
   "metadata": {
    "executionInfo": {
     "elapsed": 18,
     "status": "ok",
     "timestamp": 1653415678204,
     "user": {
      "displayName": "Ben Chugg",
      "userId": "18065198361409364457"
     },
     "user_tz": 420
    },
    "id": "hujNR3xwNS9g"
   },
   "outputs": [],
   "source": [
    "def pr(threshold, true_labels, pred_labels): \n",
    "    \"\"\"Calculate Precision and Recall at given confidence threshold\"\"\"\n",
    "\n",
    "  instance_dict = aggregate_instances(true_labels, threshold=threshold)\n",
    "  p_instance_dict = aggregate_instances(pred_labels, threshold=threshold)\n",
    "\n",
    "  for loc, sdict in instance_dict.items():\n",
    "    for season, instances in sdict.items():\n",
    "      p_instances = [p for p in p_instance_dict[loc][season] \n",
    "                    if p['conf'] >= threshold]\n",
    "\n",
    "      for p_inst in p_instances: \n",
    "        p_inst['matched'] = False \n",
    "\n",
    "      for inst in instances: \n",
    "        \n",
    "        inst['matched'] = False\n",
    "        for p_inst in p_instances:  # did predictions find it \n",
    "          if p_inst['start'] > inst['end'] or inst['start'] > p_inst['end']: \n",
    "            continue # dates don't correspond\n",
    "          if is_match(inst, p_inst): \n",
    "            # found it\n",
    "            p_inst['matched'] = True \n",
    "            inst['matched'] = True \n",
    "\n",
    "  # How many matched\n",
    "  tp, fp, fn = 0, 0, 0\n",
    "  for loc, sdict in instance_dict.items():\n",
    "    for season, instances in sdict.items():\n",
    "      for inst in instances: \n",
    "        if inst['matched']: \n",
    "          tp += 1 \n",
    "        else: \n",
    "          fn += 1\n",
    "      for p_inst in [p for p in p_instance_dict[loc][season] \n",
    "                    if p['conf'] >= threshold]: \n",
    "        if not p_inst['matched']: \n",
    "          fp += 1\n",
    "\n",
    "  precision = tp / (tp + fp) if tp + fp > 0 else 1 \n",
    "  recall = tp / (tp + fn) if tp + fn > 0 else 1\n",
    "\n",
    "  return precision, recall \n",
    "\n",
    "        "
   ]
  },
  {
   "cell_type": "code",
   "execution_count": null,
   "metadata": {
    "executionInfo": {
     "elapsed": 170,
     "status": "ok",
     "timestamp": 1653416226188,
     "user": {
      "displayName": "Ben Chugg",
      "userId": "18065198361409364457"
     },
     "user_tz": 420
    },
    "id": "c1Iq6KaNKRw7"
   },
   "outputs": [],
   "source": [
    "# Find all confidences \n",
    "all_confs = []\n",
    "for v in rcnn_labels.values():\n",
    "  for label in v.values():\n",
    "    for arr in label.values():\n",
    "      for a in arr: \n",
    "        all_confs.extend(a[2])\n",
    "all_confs = np.unique([round(c, 3) for c in all_confs])        "
   ]
  },
  {
   "cell_type": "code",
   "execution_count": null,
   "metadata": {
    "colab": {
     "base_uri": "https://localhost:8080/",
     "height": 49,
     "referenced_widgets": [
      "4bd9737d2a33485c97255e523b4acfec",
      "8d4e44f72cb145ccaefee8838613e316",
      "2eea2d7e7d01402ba3475ac3b8f4e100",
      "c21265fdc9084f9eb32ee8a7fee2f8e0",
      "4f0d9018ff6445899805aedc770251ca",
      "2965bb21a42d4534b43b3044b1fb3d09",
      "0a7cf5a1c9094f8eaa4c7f6615b37292",
      "da75b6f6d6384ae7821f05346e65dc9d",
      "c062af621dbf4168a528779e16ce7be0",
      "bbdd087eda1a488b9610e940417a9668",
      "843fbc172fce44f4b44e6bc0b209481d"
     ]
    },
    "executionInfo": {
     "elapsed": 30768,
     "status": "ok",
     "timestamp": 1653416258817,
     "user": {
      "displayName": "Ben Chugg",
      "userId": "18065198361409364457"
     },
     "user_tz": 420
    },
    "id": "NGDLdPjvNc7i",
    "outputId": "744a8755-0360-443a-c836-f878d198c110"
   },
   "outputs": [],
   "source": [
    "precisions, recalls = [], []\n",
    "for c in tqdm(np.sort(all_confs)): \n",
    "\n",
    "  p, r = pr(c, true_labels, rcnn_labels)\n",
    "  precisions.append(p)\n",
    "  recalls.append(r)\n"
   ]
  },
  {
   "cell_type": "code",
   "execution_count": null,
   "metadata": {
    "executionInfo": {
     "elapsed": 264,
     "status": "ok",
     "timestamp": 1653416259076,
     "user": {
      "displayName": "Ben Chugg",
      "userId": "18065198361409364457"
     },
     "user_tz": 420
    },
    "id": "QLQtF4ZiQ11q"
   },
   "outputs": [],
   "source": [
    "# save statistics \n",
    "import pickle \n",
    "\n",
    "stats = {'precisions': precisions, 'recalls': recalls}\n",
    "\n",
    "with open('/gdrive/MyDrive/land-app/stats/yolov5_event_pr.p', 'wb') as f: \n",
    "  pickle.dump(stats, f)"
   ]
  },
  {
   "cell_type": "code",
   "execution_count": null,
   "metadata": {
    "colab": {
     "base_uri": "https://localhost:8080/",
     "height": 279
    },
    "executionInfo": {
     "elapsed": 739,
     "status": "ok",
     "timestamp": 1653416525852,
     "user": {
      "displayName": "Ben Chugg",
      "userId": "18065198361409364457"
     },
     "user_tz": 420
    },
    "id": "TKgJqH_VPEEv",
    "outputId": "9114ebd8-8e53-4b72-bce7-e6a64210788b"
   },
   "outputs": [],
   "source": [
    "with open('/gdrive/MyDrive/land-app/stats/yolov5_event_pr.p', 'rb') as f: \n",
    "  yolo_res = pickle.load(f)\n",
    "\n",
    "plt.plot(yolo_res['recalls'], yolo_res['precisions'], lw=3, color='tab:olive', label=f'YOLOv5, AUC 0.63')\n",
    "plt.legend()\n",
    "plt.xlabel('Recall')\n",
    "plt.ylabel(\"Precision\")\n"
   ]
  }
 ],
 "metadata": {
  "colab": {
   "name": "instance_detection.ipynb",
   "provenance": []
  },
  "kernelspec": {
   "display_name": "Python 3 (ipykernel)",
   "language": "python",
   "name": "python3"
  },
  "language_info": {
   "codemirror_mode": {
    "name": "ipython",
    "version": 3
   },
   "file_extension": ".py",
   "mimetype": "text/x-python",
   "name": "python",
   "nbconvert_exporter": "python",
   "pygments_lexer": "ipython3",
   "version": "3.9.12"
  },
  "widgets": {
   "application/vnd.jupyter.widget-state+json": {
    "0a7cf5a1c9094f8eaa4c7f6615b37292": {
     "model_module": "@jupyter-widgets/controls",
     "model_module_version": "1.5.0",
     "model_name": "DescriptionStyleModel",
     "state": {
      "_model_module": "@jupyter-widgets/controls",
      "_model_module_version": "1.5.0",
      "_model_name": "DescriptionStyleModel",
      "_view_count": null,
      "_view_module": "@jupyter-widgets/base",
      "_view_module_version": "1.2.0",
      "_view_name": "StyleView",
      "description_width": ""
     }
    },
    "1530a8e0bae241cca971e295b84c9672": {
     "model_module": "@jupyter-widgets/controls",
     "model_module_version": "1.5.0",
     "model_name": "DescriptionStyleModel",
     "state": {
      "_model_module": "@jupyter-widgets/controls",
      "_model_module_version": "1.5.0",
      "_model_name": "DescriptionStyleModel",
      "_view_count": null,
      "_view_module": "@jupyter-widgets/base",
      "_view_module_version": "1.2.0",
      "_view_name": "StyleView",
      "description_width": ""
     }
    },
    "168270bf5f894c62b0b874df6c42d7e0": {
     "model_module": "@jupyter-widgets/base",
     "model_module_version": "1.2.0",
     "model_name": "LayoutModel",
     "state": {
      "_model_module": "@jupyter-widgets/base",
      "_model_module_version": "1.2.0",
      "_model_name": "LayoutModel",
      "_view_count": null,
      "_view_module": "@jupyter-widgets/base",
      "_view_module_version": "1.2.0",
      "_view_name": "LayoutView",
      "align_content": null,
      "align_items": null,
      "align_self": null,
      "border": null,
      "bottom": null,
      "display": null,
      "flex": null,
      "flex_flow": null,
      "grid_area": null,
      "grid_auto_columns": null,
      "grid_auto_flow": null,
      "grid_auto_rows": null,
      "grid_column": null,
      "grid_gap": null,
      "grid_row": null,
      "grid_template_areas": null,
      "grid_template_columns": null,
      "grid_template_rows": null,
      "height": null,
      "justify_content": null,
      "justify_items": null,
      "left": null,
      "margin": null,
      "max_height": null,
      "max_width": null,
      "min_height": null,
      "min_width": null,
      "object_fit": null,
      "object_position": null,
      "order": null,
      "overflow": null,
      "overflow_x": null,
      "overflow_y": null,
      "padding": null,
      "right": null,
      "top": null,
      "visibility": null,
      "width": null
     }
    },
    "201c26d917b242f0b141e8ce7019217d": {
     "model_module": "@jupyter-widgets/controls",
     "model_module_version": "1.5.0",
     "model_name": "HTMLModel",
     "state": {
      "_dom_classes": [],
      "_model_module": "@jupyter-widgets/controls",
      "_model_module_version": "1.5.0",
      "_model_name": "HTMLModel",
      "_view_count": null,
      "_view_module": "@jupyter-widgets/controls",
      "_view_module_version": "1.5.0",
      "_view_name": "HTMLView",
      "description": "",
      "description_tooltip": null,
      "layout": "IPY_MODEL_168270bf5f894c62b0b874df6c42d7e0",
      "placeholder": "​",
      "style": "IPY_MODEL_4ed9ceb5cab34bb0ab3dc234e98fcce7",
      "value": " 6698/6698 [01:14&lt;00:00, 44.22it/s]"
     }
    },
    "23d09101aec44f2b8ee70c8bc0e7a6b4": {
     "model_module": "@jupyter-widgets/controls",
     "model_module_version": "1.5.0",
     "model_name": "HTMLModel",
     "state": {
      "_dom_classes": [],
      "_model_module": "@jupyter-widgets/controls",
      "_model_module_version": "1.5.0",
      "_model_name": "HTMLModel",
      "_view_count": null,
      "_view_module": "@jupyter-widgets/controls",
      "_view_module_version": "1.5.0",
      "_view_name": "HTMLView",
      "description": "",
      "description_tooltip": null,
      "layout": "IPY_MODEL_7f2bb14f22284fb190f6752e41351582",
      "placeholder": "​",
      "style": "IPY_MODEL_1530a8e0bae241cca971e295b84c9672",
      "value": "100%"
     }
    },
    "2965bb21a42d4534b43b3044b1fb3d09": {
     "model_module": "@jupyter-widgets/base",
     "model_module_version": "1.2.0",
     "model_name": "LayoutModel",
     "state": {
      "_model_module": "@jupyter-widgets/base",
      "_model_module_version": "1.2.0",
      "_model_name": "LayoutModel",
      "_view_count": null,
      "_view_module": "@jupyter-widgets/base",
      "_view_module_version": "1.2.0",
      "_view_name": "LayoutView",
      "align_content": null,
      "align_items": null,
      "align_self": null,
      "border": null,
      "bottom": null,
      "display": null,
      "flex": null,
      "flex_flow": null,
      "grid_area": null,
      "grid_auto_columns": null,
      "grid_auto_flow": null,
      "grid_auto_rows": null,
      "grid_column": null,
      "grid_gap": null,
      "grid_row": null,
      "grid_template_areas": null,
      "grid_template_columns": null,
      "grid_template_rows": null,
      "height": null,
      "justify_content": null,
      "justify_items": null,
      "left": null,
      "margin": null,
      "max_height": null,
      "max_width": null,
      "min_height": null,
      "min_width": null,
      "object_fit": null,
      "object_position": null,
      "order": null,
      "overflow": null,
      "overflow_x": null,
      "overflow_y": null,
      "padding": null,
      "right": null,
      "top": null,
      "visibility": null,
      "width": null
     }
    },
    "2eea2d7e7d01402ba3475ac3b8f4e100": {
     "model_module": "@jupyter-widgets/controls",
     "model_module_version": "1.5.0",
     "model_name": "FloatProgressModel",
     "state": {
      "_dom_classes": [],
      "_model_module": "@jupyter-widgets/controls",
      "_model_module_version": "1.5.0",
      "_model_name": "FloatProgressModel",
      "_view_count": null,
      "_view_module": "@jupyter-widgets/controls",
      "_view_module_version": "1.5.0",
      "_view_name": "ProgressView",
      "bar_style": "success",
      "description": "",
      "description_tooltip": null,
      "layout": "IPY_MODEL_da75b6f6d6384ae7821f05346e65dc9d",
      "max": 343,
      "min": 0,
      "orientation": "horizontal",
      "style": "IPY_MODEL_c062af621dbf4168a528779e16ce7be0",
      "value": 343
     }
    },
    "3a7b333c559342398acd2be604b91a3e": {
     "model_module": "@jupyter-widgets/controls",
     "model_module_version": "1.5.0",
     "model_name": "FloatProgressModel",
     "state": {
      "_dom_classes": [],
      "_model_module": "@jupyter-widgets/controls",
      "_model_module_version": "1.5.0",
      "_model_name": "FloatProgressModel",
      "_view_count": null,
      "_view_module": "@jupyter-widgets/controls",
      "_view_module_version": "1.5.0",
      "_view_name": "ProgressView",
      "bar_style": "success",
      "description": "",
      "description_tooltip": null,
      "layout": "IPY_MODEL_d97455f39e4f4fad9216b42ba859d3c7",
      "max": 6698,
      "min": 0,
      "orientation": "horizontal",
      "style": "IPY_MODEL_651d3fe3c6d543ba98c05f6632d52ab2",
      "value": 6698
     }
    },
    "4bd9737d2a33485c97255e523b4acfec": {
     "model_module": "@jupyter-widgets/controls",
     "model_module_version": "1.5.0",
     "model_name": "HBoxModel",
     "state": {
      "_dom_classes": [],
      "_model_module": "@jupyter-widgets/controls",
      "_model_module_version": "1.5.0",
      "_model_name": "HBoxModel",
      "_view_count": null,
      "_view_module": "@jupyter-widgets/controls",
      "_view_module_version": "1.5.0",
      "_view_name": "HBoxView",
      "box_style": "",
      "children": [
       "IPY_MODEL_8d4e44f72cb145ccaefee8838613e316",
       "IPY_MODEL_2eea2d7e7d01402ba3475ac3b8f4e100",
       "IPY_MODEL_c21265fdc9084f9eb32ee8a7fee2f8e0"
      ],
      "layout": "IPY_MODEL_4f0d9018ff6445899805aedc770251ca"
     }
    },
    "4d7f1d5114944601a4892d198b9e66f0": {
     "model_module": "@jupyter-widgets/controls",
     "model_module_version": "1.5.0",
     "model_name": "HBoxModel",
     "state": {
      "_dom_classes": [],
      "_model_module": "@jupyter-widgets/controls",
      "_model_module_version": "1.5.0",
      "_model_name": "HBoxModel",
      "_view_count": null,
      "_view_module": "@jupyter-widgets/controls",
      "_view_module_version": "1.5.0",
      "_view_name": "HBoxView",
      "box_style": "",
      "children": [
       "IPY_MODEL_23d09101aec44f2b8ee70c8bc0e7a6b4",
       "IPY_MODEL_3a7b333c559342398acd2be604b91a3e",
       "IPY_MODEL_201c26d917b242f0b141e8ce7019217d"
      ],
      "layout": "IPY_MODEL_e7cb22f000634b70aaeb236c9d98eae5"
     }
    },
    "4ed9ceb5cab34bb0ab3dc234e98fcce7": {
     "model_module": "@jupyter-widgets/controls",
     "model_module_version": "1.5.0",
     "model_name": "DescriptionStyleModel",
     "state": {
      "_model_module": "@jupyter-widgets/controls",
      "_model_module_version": "1.5.0",
      "_model_name": "DescriptionStyleModel",
      "_view_count": null,
      "_view_module": "@jupyter-widgets/base",
      "_view_module_version": "1.2.0",
      "_view_name": "StyleView",
      "description_width": ""
     }
    },
    "4f0d9018ff6445899805aedc770251ca": {
     "model_module": "@jupyter-widgets/base",
     "model_module_version": "1.2.0",
     "model_name": "LayoutModel",
     "state": {
      "_model_module": "@jupyter-widgets/base",
      "_model_module_version": "1.2.0",
      "_model_name": "LayoutModel",
      "_view_count": null,
      "_view_module": "@jupyter-widgets/base",
      "_view_module_version": "1.2.0",
      "_view_name": "LayoutView",
      "align_content": null,
      "align_items": null,
      "align_self": null,
      "border": null,
      "bottom": null,
      "display": null,
      "flex": null,
      "flex_flow": null,
      "grid_area": null,
      "grid_auto_columns": null,
      "grid_auto_flow": null,
      "grid_auto_rows": null,
      "grid_column": null,
      "grid_gap": null,
      "grid_row": null,
      "grid_template_areas": null,
      "grid_template_columns": null,
      "grid_template_rows": null,
      "height": null,
      "justify_content": null,
      "justify_items": null,
      "left": null,
      "margin": null,
      "max_height": null,
      "max_width": null,
      "min_height": null,
      "min_width": null,
      "object_fit": null,
      "object_position": null,
      "order": null,
      "overflow": null,
      "overflow_x": null,
      "overflow_y": null,
      "padding": null,
      "right": null,
      "top": null,
      "visibility": null,
      "width": null
     }
    },
    "651d3fe3c6d543ba98c05f6632d52ab2": {
     "model_module": "@jupyter-widgets/controls",
     "model_module_version": "1.5.0",
     "model_name": "ProgressStyleModel",
     "state": {
      "_model_module": "@jupyter-widgets/controls",
      "_model_module_version": "1.5.0",
      "_model_name": "ProgressStyleModel",
      "_view_count": null,
      "_view_module": "@jupyter-widgets/base",
      "_view_module_version": "1.2.0",
      "_view_name": "StyleView",
      "bar_color": null,
      "description_width": ""
     }
    },
    "7f2bb14f22284fb190f6752e41351582": {
     "model_module": "@jupyter-widgets/base",
     "model_module_version": "1.2.0",
     "model_name": "LayoutModel",
     "state": {
      "_model_module": "@jupyter-widgets/base",
      "_model_module_version": "1.2.0",
      "_model_name": "LayoutModel",
      "_view_count": null,
      "_view_module": "@jupyter-widgets/base",
      "_view_module_version": "1.2.0",
      "_view_name": "LayoutView",
      "align_content": null,
      "align_items": null,
      "align_self": null,
      "border": null,
      "bottom": null,
      "display": null,
      "flex": null,
      "flex_flow": null,
      "grid_area": null,
      "grid_auto_columns": null,
      "grid_auto_flow": null,
      "grid_auto_rows": null,
      "grid_column": null,
      "grid_gap": null,
      "grid_row": null,
      "grid_template_areas": null,
      "grid_template_columns": null,
      "grid_template_rows": null,
      "height": null,
      "justify_content": null,
      "justify_items": null,
      "left": null,
      "margin": null,
      "max_height": null,
      "max_width": null,
      "min_height": null,
      "min_width": null,
      "object_fit": null,
      "object_position": null,
      "order": null,
      "overflow": null,
      "overflow_x": null,
      "overflow_y": null,
      "padding": null,
      "right": null,
      "top": null,
      "visibility": null,
      "width": null
     }
    },
    "843fbc172fce44f4b44e6bc0b209481d": {
     "model_module": "@jupyter-widgets/controls",
     "model_module_version": "1.5.0",
     "model_name": "DescriptionStyleModel",
     "state": {
      "_model_module": "@jupyter-widgets/controls",
      "_model_module_version": "1.5.0",
      "_model_name": "DescriptionStyleModel",
      "_view_count": null,
      "_view_module": "@jupyter-widgets/base",
      "_view_module_version": "1.2.0",
      "_view_name": "StyleView",
      "description_width": ""
     }
    },
    "8d4e44f72cb145ccaefee8838613e316": {
     "model_module": "@jupyter-widgets/controls",
     "model_module_version": "1.5.0",
     "model_name": "HTMLModel",
     "state": {
      "_dom_classes": [],
      "_model_module": "@jupyter-widgets/controls",
      "_model_module_version": "1.5.0",
      "_model_name": "HTMLModel",
      "_view_count": null,
      "_view_module": "@jupyter-widgets/controls",
      "_view_module_version": "1.5.0",
      "_view_name": "HTMLView",
      "description": "",
      "description_tooltip": null,
      "layout": "IPY_MODEL_2965bb21a42d4534b43b3044b1fb3d09",
      "placeholder": "​",
      "style": "IPY_MODEL_0a7cf5a1c9094f8eaa4c7f6615b37292",
      "value": "100%"
     }
    },
    "bbdd087eda1a488b9610e940417a9668": {
     "model_module": "@jupyter-widgets/base",
     "model_module_version": "1.2.0",
     "model_name": "LayoutModel",
     "state": {
      "_model_module": "@jupyter-widgets/base",
      "_model_module_version": "1.2.0",
      "_model_name": "LayoutModel",
      "_view_count": null,
      "_view_module": "@jupyter-widgets/base",
      "_view_module_version": "1.2.0",
      "_view_name": "LayoutView",
      "align_content": null,
      "align_items": null,
      "align_self": null,
      "border": null,
      "bottom": null,
      "display": null,
      "flex": null,
      "flex_flow": null,
      "grid_area": null,
      "grid_auto_columns": null,
      "grid_auto_flow": null,
      "grid_auto_rows": null,
      "grid_column": null,
      "grid_gap": null,
      "grid_row": null,
      "grid_template_areas": null,
      "grid_template_columns": null,
      "grid_template_rows": null,
      "height": null,
      "justify_content": null,
      "justify_items": null,
      "left": null,
      "margin": null,
      "max_height": null,
      "max_width": null,
      "min_height": null,
      "min_width": null,
      "object_fit": null,
      "object_position": null,
      "order": null,
      "overflow": null,
      "overflow_x": null,
      "overflow_y": null,
      "padding": null,
      "right": null,
      "top": null,
      "visibility": null,
      "width": null
     }
    },
    "c062af621dbf4168a528779e16ce7be0": {
     "model_module": "@jupyter-widgets/controls",
     "model_module_version": "1.5.0",
     "model_name": "ProgressStyleModel",
     "state": {
      "_model_module": "@jupyter-widgets/controls",
      "_model_module_version": "1.5.0",
      "_model_name": "ProgressStyleModel",
      "_view_count": null,
      "_view_module": "@jupyter-widgets/base",
      "_view_module_version": "1.2.0",
      "_view_name": "StyleView",
      "bar_color": null,
      "description_width": ""
     }
    },
    "c21265fdc9084f9eb32ee8a7fee2f8e0": {
     "model_module": "@jupyter-widgets/controls",
     "model_module_version": "1.5.0",
     "model_name": "HTMLModel",
     "state": {
      "_dom_classes": [],
      "_model_module": "@jupyter-widgets/controls",
      "_model_module_version": "1.5.0",
      "_model_name": "HTMLModel",
      "_view_count": null,
      "_view_module": "@jupyter-widgets/controls",
      "_view_module_version": "1.5.0",
      "_view_name": "HTMLView",
      "description": "",
      "description_tooltip": null,
      "layout": "IPY_MODEL_bbdd087eda1a488b9610e940417a9668",
      "placeholder": "​",
      "style": "IPY_MODEL_843fbc172fce44f4b44e6bc0b209481d",
      "value": " 343/343 [00:30&lt;00:00, 50.04it/s]"
     }
    },
    "d97455f39e4f4fad9216b42ba859d3c7": {
     "model_module": "@jupyter-widgets/base",
     "model_module_version": "1.2.0",
     "model_name": "LayoutModel",
     "state": {
      "_model_module": "@jupyter-widgets/base",
      "_model_module_version": "1.2.0",
      "_model_name": "LayoutModel",
      "_view_count": null,
      "_view_module": "@jupyter-widgets/base",
      "_view_module_version": "1.2.0",
      "_view_name": "LayoutView",
      "align_content": null,
      "align_items": null,
      "align_self": null,
      "border": null,
      "bottom": null,
      "display": null,
      "flex": null,
      "flex_flow": null,
      "grid_area": null,
      "grid_auto_columns": null,
      "grid_auto_flow": null,
      "grid_auto_rows": null,
      "grid_column": null,
      "grid_gap": null,
      "grid_row": null,
      "grid_template_areas": null,
      "grid_template_columns": null,
      "grid_template_rows": null,
      "height": null,
      "justify_content": null,
      "justify_items": null,
      "left": null,
      "margin": null,
      "max_height": null,
      "max_width": null,
      "min_height": null,
      "min_width": null,
      "object_fit": null,
      "object_position": null,
      "order": null,
      "overflow": null,
      "overflow_x": null,
      "overflow_y": null,
      "padding": null,
      "right": null,
      "top": null,
      "visibility": null,
      "width": null
     }
    },
    "da75b6f6d6384ae7821f05346e65dc9d": {
     "model_module": "@jupyter-widgets/base",
     "model_module_version": "1.2.0",
     "model_name": "LayoutModel",
     "state": {
      "_model_module": "@jupyter-widgets/base",
      "_model_module_version": "1.2.0",
      "_model_name": "LayoutModel",
      "_view_count": null,
      "_view_module": "@jupyter-widgets/base",
      "_view_module_version": "1.2.0",
      "_view_name": "LayoutView",
      "align_content": null,
      "align_items": null,
      "align_self": null,
      "border": null,
      "bottom": null,
      "display": null,
      "flex": null,
      "flex_flow": null,
      "grid_area": null,
      "grid_auto_columns": null,
      "grid_auto_flow": null,
      "grid_auto_rows": null,
      "grid_column": null,
      "grid_gap": null,
      "grid_row": null,
      "grid_template_areas": null,
      "grid_template_columns": null,
      "grid_template_rows": null,
      "height": null,
      "justify_content": null,
      "justify_items": null,
      "left": null,
      "margin": null,
      "max_height": null,
      "max_width": null,
      "min_height": null,
      "min_width": null,
      "object_fit": null,
      "object_position": null,
      "order": null,
      "overflow": null,
      "overflow_x": null,
      "overflow_y": null,
      "padding": null,
      "right": null,
      "top": null,
      "visibility": null,
      "width": null
     }
    },
    "e7cb22f000634b70aaeb236c9d98eae5": {
     "model_module": "@jupyter-widgets/base",
     "model_module_version": "1.2.0",
     "model_name": "LayoutModel",
     "state": {
      "_model_module": "@jupyter-widgets/base",
      "_model_module_version": "1.2.0",
      "_model_name": "LayoutModel",
      "_view_count": null,
      "_view_module": "@jupyter-widgets/base",
      "_view_module_version": "1.2.0",
      "_view_name": "LayoutView",
      "align_content": null,
      "align_items": null,
      "align_self": null,
      "border": null,
      "bottom": null,
      "display": null,
      "flex": null,
      "flex_flow": null,
      "grid_area": null,
      "grid_auto_columns": null,
      "grid_auto_flow": null,
      "grid_auto_rows": null,
      "grid_column": null,
      "grid_gap": null,
      "grid_row": null,
      "grid_template_areas": null,
      "grid_template_columns": null,
      "grid_template_rows": null,
      "height": null,
      "justify_content": null,
      "justify_items": null,
      "left": null,
      "margin": null,
      "max_height": null,
      "max_width": null,
      "min_height": null,
      "min_width": null,
      "object_fit": null,
      "object_position": null,
      "order": null,
      "overflow": null,
      "overflow_x": null,
      "overflow_y": null,
      "padding": null,
      "right": null,
      "top": null,
      "visibility": null,
      "width": null
     }
    }
   }
  }
 },
 "nbformat": 4,
 "nbformat_minor": 1
}
