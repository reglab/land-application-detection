{
 "cells": [
  {
   "cell_type": "code",
   "execution_count": null,
   "metadata": {
    "executionInfo": {
     "elapsed": 253,
     "status": "ok",
     "timestamp": 1653426883800,
     "user": {
      "displayName": "Ben Chugg",
      "userId": "18065198361409364457"
     },
     "user_tz": 420
    },
    "id": "hxKprnM_U9yY"
   },
   "outputs": [],
   "source": [
    "import os \n",
    "import numpy as np \n",
    "import glob \n",
    "import cv2\n",
    "import shutil\n",
    "import time \n",
    "import pickle \n",
    "import random \n",
    "import json \n",
    "from google.colab.patches import cv2_imshow"
   ]
  },
  {
   "cell_type": "code",
   "execution_count": null,
   "metadata": {
    "id": "FBVpcB5-HYCI"
   },
   "outputs": [],
   "source": [
    "boxing_pth = 'Land Application Data/train/'\n",
    "test_pth = os.path.join(boxing_pth, 'test.txt')\n",
    "\n",
    "\n",
    "with open(test_pth, 'r') as f: \n",
    "  locs = []\n",
    "  for im in f.readlines():\n",
    "    locs.append('loc_' + im.split(os.sep)[-1].split('_')[1])\n",
    "\n",
    "locs = np.unique(locs)"
   ]
  },
  {
   "cell_type": "markdown",
   "metadata": {
    "id": "SbiEDn6Jeguy"
   },
   "source": [
    "# PR & ROC Curves"
   ]
  },
  {
   "cell_type": "code",
   "execution_count": null,
   "metadata": {
    "executionInfo": {
     "elapsed": 681,
     "status": "ok",
     "timestamp": 1653426913844,
     "user": {
      "displayName": "Ben Chugg",
      "userId": "18065198361409364457"
     },
     "user_tz": 420
    },
    "id": "2L-Me7GfhxSJ"
   },
   "outputs": [],
   "source": [
    "from sklearn.metrics import precision_recall_curve\n",
    "from sklearn.metrics import auc\n",
    "from sklearn.metrics import roc_curve\n",
    "from sklearn.metrics import fbeta_score\n",
    "import matplotlib.pyplot as plt "
   ]
  },
  {
   "cell_type": "code",
   "execution_count": null,
   "metadata": {
    "executionInfo": {
     "elapsed": 141823,
     "status": "ok",
     "timestamp": 1653427056757,
     "user": {
      "displayName": "Ben Chugg",
      "userId": "18065198361409364457"
     },
     "user_tz": 420
    },
    "id": "H0rNmsemei2Z"
   },
   "outputs": [],
   "source": [
    "# YOLOv5 Classification results \n",
    "boxing_pth = 'Land Application Data/train/'\n",
    "\n",
    "results = '/DATAPATH/runs/detect/exp/'\n",
    "label_dir = os.path.join(results, 'labels')\n",
    "\n",
    "# Get positives \n",
    "with open(os.path.join(boxing_pth, 'test.txt'), 'r') as f: \n",
    "  positives = [l.strip().split(os.sep)[-1] for l in f.readlines()]\n",
    "\n",
    "y_true, y_probas = [], []\n",
    "for im in glob.glob(os.path.join(results, '*png')): \n",
    "  im_name = im.split(os.sep)[-1]\n",
    "  if im_name in positives: \n",
    "    y_true.append(1)\n",
    "  else: \n",
    "    y_true.append(0)\n",
    "\n",
    "  try: \n",
    "    with open(os.path.join(label_dir, im_name.replace('.png', '.txt')), 'r') as f: \n",
    "      detections = [l.strip() for l in f.readlines()]\n",
    "      confs = [float(d.split(' ')[-1]) for d in detections]\n",
    "      y_probas.append(np.max(confs))\n",
    "  except FileNotFoundError: \n",
    "    y_probas.append(0) \n",
    "  "
   ]
  },
  {
   "cell_type": "code",
   "execution_count": null,
   "metadata": {
    "id": "RGsddoOe2KLe"
   },
   "outputs": [],
   "source": [
    "# Yolov5 and RCNN instance detection results from inference script\n",
    "with open('./instance_pr.p', 'rb') as f: \n",
    "  d = pickle.load(f)\n",
    "  recall_event = d['recalls']\n",
    "  inds = np.argsort(recall_event)\n",
    "  recall_event = np.array(recall_event)[inds]\n",
    "  precision_event = np.array(d['precisions'])[inds]\n",
    "\n"
   ]
  },
  {
   "cell_type": "code",
   "execution_count": null,
   "metadata": {
    "id": "Aht_DU4P7SZ2"
   },
   "outputs": [],
   "source": [
    "precision_cls, recall_cls, thresh = precision_recall_curve(y_true, y_probas)"
   ]
  },
  {
   "cell_type": "code",
   "execution_count": null,
   "metadata": {
    "colab": {
     "base_uri": "https://localhost:8080/"
    },
    "executionInfo": {
     "elapsed": 313,
     "status": "ok",
     "timestamp": 1652759317004,
     "user": {
      "displayName": "Ben Chugg",
      "userId": "18065198361409364457"
     },
     "user_tz": 420
    },
    "id": "yVU4xmEjCw8X",
    "outputId": "d8cd3ad2-6175-4b03-c89b-8acc4454d59e"
   },
   "outputs": [],
   "source": [
    "def probas2pred(probas, t): \n",
    "  return [1 if p >= t else 0 for p in probas]\n",
    "\n",
    "f1_yolo = fbeta_score(y_true, probas2pred(y_probas, 0.5), beta=1)\n",
    "print('F1 scores', f1_cnn, f1_dual, f1_rcnn, f1_yolo)\n",
    "\n",
    "f2_yolo = fbeta_score(y_true, probas2pred(y_probas, 0.5), beta=2)\n",
    "print('F2 scores', f2_cnn, f2_dual, f2_rcnn, f2_yolo)"
   ]
  },
  {
   "cell_type": "code",
   "execution_count": null,
   "metadata": {
    "colab": {
     "base_uri": "https://localhost:8080/",
     "height": 295
    },
    "executionInfo": {
     "elapsed": 733,
     "status": "ok",
     "timestamp": 1653428505012,
     "user": {
      "displayName": "Ben Chugg",
      "userId": "18065198361409364457"
     },
     "user_tz": 420
    },
    "id": "TKx4xobdHP6K",
    "outputId": "888158d8-7744-423b-c69f-bb4d9d145c24"
   },
   "outputs": [],
   "source": [
    "precision_cls, recall_cls, thresh = precision_recall_curve(y_true, y_probas)\n",
    "precision_cls[precision_cls < 0.5] = 0.5\n",
    "plt.plot(recall_cls, precision_cls, c='tab:olive', lw=3, label=f'YOLOv5 (AUC {auc(recall_cls, precision_cls):0.2f})')\n",
    "plt.hlines(y=0.5, xmin=0, xmax=1, color='k', ls='--', label='no skill')\n",
    "plt.ylabel('Precision')\n",
    "plt.xlabel('Recall')\n",
    "plt.title(f'Does the image contain application?')\n",
    "plt.legend(loc='lower left', bbox_to_anchor=(0.05, 0.2))"
   ]
  },
  {
   "cell_type": "code",
   "execution_count": null,
   "metadata": {
    "colab": {
     "base_uri": "https://localhost:8080/",
     "height": 851
    },
    "executionInfo": {
     "elapsed": 1987,
     "status": "ok",
     "timestamp": 1652757825618,
     "user": {
      "displayName": "Ben Chugg",
      "userId": "18065198361409364457"
     },
     "user_tz": 420
    },
    "id": "fgXbkwnJloni",
    "outputId": "b0c5151d-e43f-41eb-a6db-3367ba1e107b"
   },
   "outputs": [],
   "source": [
    "plt.plot(recall_cls, precision_cls, c='tab:olive', lw=3, label=f'YOLO (AUC {auc(recall_cls, precision_cls):0.2f})')\n",
    "plt.hlines(y=np.mean(y_true), xmin=0, xmax=1, color='k', ls='--', label='no skill')\n",
    "plt.ylabel('Precision')\n",
    "plt.xlabel('Recall')\n",
    "plt.title(f'Task 1: Classification')\n",
    "plt.legend()\n",
    "plt.show()\n",
    "\n",
    "plt.plot(recall_event, precision_event, c='green', lw=3, label=f'YOLO AUC {auc(recall_event, precision_event):0.2f}')\n",
    "plt.legend()\n",
    "plt.ylabel('Precision')\n",
    "plt.xlabel('Recall')\n",
    "plt.title(f'Task 2: Event Detection')\n",
    "plt.show()\n",
    "\n",
    "\n",
    "fpr_cls, tpr_cls, thresh = roc_curve(y_true, y_probas)\n",
    "plt.plot(fpr_cls, tpr_cls, lw=3, c='tab:olive', label=f'YOLO classificaton (AUC {auc(fpr_cls, tpr_cls):0.2f})')\n",
    "plt.plot([0,1], [0,1], ls='--', c='k', label='random classifier')\n",
    "plt.ylabel('True Positive Rate')\n",
    "plt.xlabel('False Positive Rate')\n",
    "plt.legend()\n",
    "plt.title('Task 1: Classification')\n",
    "plt.show()\n"
   ]
  }
 ],
 "metadata": {
  "colab": {
   "authorship_tag": "ABX9TyNeAbp/ngEQIhu6NxZg1nQ5",
   "name": "yolov5_stats.ipynb",
   "provenance": []
  },
  "kernelspec": {
   "display_name": "Python 3.9.13 64-bit",
   "language": "python",
   "name": "python3"
  },
  "language_info": {
   "codemirror_mode": {
    "name": "ipython",
    "version": 3
   },
   "file_extension": ".py",
   "mimetype": "text/x-python",
   "name": "python",
   "nbconvert_exporter": "python",
   "pygments_lexer": "ipython3",
   "version": "3.9.13"
  },
  "vscode": {
   "interpreter": {
    "hash": "b0fa6594d8f4cbf19f97940f81e996739fb7646882a419484c72d19e05852a7e"
   }
  }
 },
 "nbformat": 4,
 "nbformat_minor": 1
}
