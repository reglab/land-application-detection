{
  "cells": [
    {
      "cell_type": "code",
      "execution_count": 2,
      "metadata": {
        "colab": {
          "base_uri": "https://localhost:8080/"
        },
        "id": "olwxN9nlPbvp",
        "outputId": "2642bb5c-cdab-456b-d471-ff401744591f"
      },
      "outputs": [
        {
          "name": "stdout",
          "output_type": "stream",
          "text": [
            "Looking in indexes: https://pypi.org/simple, https://us-python.pkg.dev/colab-wheels/public/simple/\n",
            "Collecting geopandas\n",
            "  Downloading geopandas-0.10.2-py2.py3-none-any.whl (1.0 MB)\n",
            "\u001b[K     |████████████████████████████████| 1.0 MB 13.3 MB/s \n",
            "\u001b[?25hCollecting pyproj>=2.2.0\n",
            "  Downloading pyproj-3.2.1-cp37-cp37m-manylinux2010_x86_64.whl (6.3 MB)\n",
            "\u001b[K     |████████████████████████████████| 6.3 MB 53.9 MB/s \n",
            "\u001b[?25hRequirement already satisfied: shapely>=1.6 in /usr/local/lib/python3.7/dist-packages (from geopandas) (1.8.4)\n",
            "Requirement already satisfied: pandas>=0.25.0 in /usr/local/lib/python3.7/dist-packages (from geopandas) (1.3.5)\n",
            "Collecting fiona>=1.8\n",
            "  Downloading Fiona-1.8.21-cp37-cp37m-manylinux2014_x86_64.whl (16.7 MB)\n",
            "\u001b[K     |████████████████████████████████| 16.7 MB 49.9 MB/s \n",
            "\u001b[?25hRequirement already satisfied: certifi in /usr/local/lib/python3.7/dist-packages (from fiona>=1.8->geopandas) (2022.9.24)\n",
            "Requirement already satisfied: click>=4.0 in /usr/local/lib/python3.7/dist-packages (from fiona>=1.8->geopandas) (7.1.2)\n",
            "Collecting click-plugins>=1.0\n",
            "  Downloading click_plugins-1.1.1-py2.py3-none-any.whl (7.5 kB)\n",
            "Collecting cligj>=0.5\n",
            "  Downloading cligj-0.7.2-py3-none-any.whl (7.1 kB)\n",
            "Requirement already satisfied: setuptools in /usr/local/lib/python3.7/dist-packages (from fiona>=1.8->geopandas) (57.4.0)\n",
            "Requirement already satisfied: attrs>=17 in /usr/local/lib/python3.7/dist-packages (from fiona>=1.8->geopandas) (22.1.0)\n",
            "Requirement already satisfied: six>=1.7 in /usr/local/lib/python3.7/dist-packages (from fiona>=1.8->geopandas) (1.15.0)\n",
            "Collecting munch\n",
            "  Downloading munch-2.5.0-py2.py3-none-any.whl (10 kB)\n",
            "Requirement already satisfied: numpy>=1.17.3 in /usr/local/lib/python3.7/dist-packages (from pandas>=0.25.0->geopandas) (1.21.6)\n",
            "Requirement already satisfied: pytz>=2017.3 in /usr/local/lib/python3.7/dist-packages (from pandas>=0.25.0->geopandas) (2022.4)\n",
            "Requirement already satisfied: python-dateutil>=2.7.3 in /usr/local/lib/python3.7/dist-packages (from pandas>=0.25.0->geopandas) (2.8.2)\n",
            "Installing collected packages: munch, cligj, click-plugins, pyproj, fiona, geopandas\n",
            "Successfully installed click-plugins-1.1.1 cligj-0.7.2 fiona-1.8.21 geopandas-0.10.2 munch-2.5.0 pyproj-3.2.1\n"
          ]
        }
      ],
      "source": [
        "!pip install geopandas\n",
        "import os \n",
        "import numpy as np \n",
        "import glob \n",
        "import copy \n",
        "from datetime import datetime \n",
        "import matplotlib.pyplot as plt \n",
        "from tqdm.notebook import tqdm\n",
        "import pandas as pd\n",
        "import geopandas as gpd\n",
        "import seaborn as sns\n",
        "sns.set_theme(style='whitegrid', context='paper')"
      ]
    },
    {
      "cell_type": "code",
      "execution_count": 7,
      "metadata": {
        "id": "92MpLnS5Pda-"
      },
      "outputs": [],
      "source": [
        "def rect_intersect(r1, r2): \n",
        "  \"\"\"Return True iff given rectangles intersect. \n",
        "  rectangles defined as [x_center, y_center, width, height]\"\"\"\n",
        "\n",
        "  [x1, y1, w1, h1] = r1 \n",
        "  [x2, y2, w2, h2] = r2\n",
        "\n",
        "  x1_left = x1 - w1/2 \n",
        "  x1_right = x1 + w1/2 \n",
        "  x2_left = x2 - w2/2 \n",
        "  x2_right = x2 + w2/2 \n",
        "\n",
        "  # check if either is to the left of the other \n",
        "  if (x1_right < x2_left) or (x2_right < x1_left): \n",
        "    return False\n",
        "\n",
        "  top1 = y1 + h1/2 \n",
        "  bottom1 = y1 - h1/2 \n",
        "  top2 = y2 + h2/2 \n",
        "  bottom2 = y2 - h2/2   \n",
        "\n",
        "  # check if either is below the other \n",
        "  if top1 < bottom2 or top2 < bottom1: \n",
        "    return False \n",
        "\n",
        "  return True \n",
        "\n",
        "def aggregate_instances(labels_dict, threshold=0): \n",
        "  \"\"\"Given a dictionary of detections (created below), aggregate the \n",
        "  individual image-level predictions into events (i.e., instances)\"\"\"\n",
        "  instance_dict = {}\n",
        "  for loc, sdict in labels_dict.items():\n",
        "    for season, ddict in sdict.items():\n",
        "\n",
        "      dates = sorted(ddict.keys())\n",
        "      \n",
        "      # keep track of instances for this season\n",
        "      all_instances = [] \n",
        "\n",
        "      for i, date in enumerate(dates): # all images in season in correct order \n",
        "\n",
        "        # print(i, labels_dict[loc][season][date])\n",
        "\n",
        "        if not len(labels_dict[loc][season][date]): \n",
        "          # end all instances, this date has no labels\n",
        "          for inst in all_instances: \n",
        "            if inst['active']: \n",
        "              inst['active'] = False \n",
        "              inst['end'] = dates[i-1] \n",
        "          continue\n",
        "\n",
        "        # grab coordinates (labels), images, and confidences \n",
        "        for labels_ims in labels_dict[loc][season][date]:\n",
        "          \n",
        "          if len(labels_ims) == 2: \n",
        "            label_list, im = labels_ims[0], labels_ims[1]\n",
        "            confs = [1]*len(label_list)\n",
        "          else: \n",
        "            label_list, im = labels_ims[0], labels_ims[1]\n",
        "            confs = labels_ims[2]\n",
        "            conf_bools = np.array([c >= threshold for c in confs]) \n",
        "            label_list = np.array(label_list)[conf_bools]\n",
        "            confs = np.array(confs)[conf_bools]\n",
        "            assert len(confs) == len(label_list) == np.sum(conf_bools)\n",
        "\n",
        "\n",
        "          # Check which instances get extended \n",
        "          used_labels = [] # track which labels get used  \n",
        "          for inst in all_instances: \n",
        "            if not inst['active']: continue # instance already ended \n",
        "            continued = False \n",
        "            for j, coords in enumerate(label_list): \n",
        "              any_int = np.sum([rect_intersect(coords, c) for c in inst['coords']]) \n",
        "              if any_int: # this label is part of current instance \n",
        "                inst['ims'].append(im) \n",
        "                inst['coords'].append(coords)\n",
        "                inst['conf'] = max(inst['conf'], confs[j]) # confidence is maximum conf over all detections\n",
        "                continued = True \n",
        "                used_labels.append(j)\n",
        "            if not continued: # this instance ended, no labels matched \n",
        "              inst['active'] = False \n",
        "              inst['end'] = dates[i-1] if inst['start'] < date else date\n",
        "\n",
        "          # Make new instances from any unused labels \n",
        "          for j, coords in enumerate(label_list): \n",
        "            if j in used_labels: continue \n",
        "            new_inst = {'start': date, \n",
        "                        'active': True, \n",
        "                        'ims': [im], \n",
        "                        'coords': [coords], \n",
        "                        'conf': confs[j]}\n",
        "            #print('creating new inst', date, new_inst)\n",
        "            all_instances.append(new_inst)\n",
        "\n",
        "\n",
        "      # End of season, so we end all instances \n",
        "      for inst in all_instances: \n",
        "        if inst['active']: \n",
        "          inst['active'] = False \n",
        "          inst['end'] = dates[-1]\n",
        "\n",
        "      if loc not in instance_dict.keys():\n",
        "        instance_dict[loc] = {}\n",
        "      \n",
        "      instance_dict[loc][season] = all_instances   \n",
        "\n",
        "  return instance_dict \n",
        "def gen_box_coords(lat, lon, height=0.00450, width=0.00592):\n",
        "    \"\"\"\n",
        "    Args:\n",
        "        lat (float): latitude in decimal degrees\n",
        "        lon (float): longitude in decimal degrees\n",
        "        height (float): height of image in decimal degrees [default = 0.00450, appx 500m at IL latitude]\n",
        "        width (float): width of image in decimal degrees [default = 0.00592, appx 500m at IL latitude]\n",
        "\n",
        "    Returns:\n",
        "        box polygon coordinates\n",
        "    \"\"\"\n",
        "\n",
        "    w = width / 2\n",
        "    h = height / 2\n",
        "\n",
        "    # format is [[l, b], [r, b], [r, t], [l, t], [l, b]]\n",
        "\n",
        "    box_coords = [[lon - w, lat - h],\n",
        "                  [lon + w, lat - h],\n",
        "                  [lon + w, lat + h],\n",
        "                  [lon - w, lat + h],\n",
        "                  [lon - w, lat - h]]\n",
        "\n",
        "    return box_coords"
      ]
    },
    {
      "cell_type": "code",
      "execution_count": 39,
      "metadata": {
        "id": "677zpQ9nPlxc"
      },
      "outputs": [],
      "source": [
        "# Create dictionary of all image dates \n",
        "\n",
        "test_ims = 'your/data/path/yolov5_runs/detect/'\n",
        "\n",
        "date_dict = {}\n",
        "\n",
        "for exp in ['exp1', 'exp2', ...]:\n",
        "  for im in os.listdir(os.path.join(test_ims, exp, 'labels')):\n",
        "    if not '.txt' in im:\n",
        "      continue\n",
        "    loc = im.split('_')[1]\n",
        "    date = datetime.strptime(im.split('_')[2], '%Y%m%d')\n",
        "    season = date.year if date.month > 6 else date.year - 1\n",
        "\n",
        "    if loc not in date_dict.keys(): \n",
        "      date_dict[loc] = {2018: {}, 2019: {}, 2020: {}}\n",
        "\n",
        "    date_dict[loc][season][date] = []"
      ]
    },
    {
      "cell_type": "code",
      "execution_count": 40,
      "metadata": {
        "id": "xhCqnHCOPxmT"
      },
      "outputs": [],
      "source": [
        "# Predictions\n",
        "results_path = 'your/data/path/yolov5_runs/detect//detect/'\n",
        "\n",
        "pred_labels = copy.deepcopy(date_dict)\n",
        "\n",
        "for exp in ['exp1', 'exp2', ...]:\n",
        "  for txt in os.listdir(os.path.join(results_path, exp, 'labels')): \n",
        "    loc = txt.split('_')[1]\n",
        "    date = datetime.strptime(txt.split('_')[2], '%Y%m%d') \n",
        "    season = date.year if date.month > 6 else date.year - 1 \n",
        "    \n",
        "    with open(os.path.join(results_path, exp, 'labels', txt), 'r') as f: \n",
        "      plbls, confs = [], []\n",
        "      for l in [l.strip() for l in f.readlines()]: \n",
        "        arr = l.split(' ')\n",
        "        plbls.append([float(x) for x in arr[1:-1]])\n",
        "        confs.append(float(arr[-1]))\n",
        "\n",
        "    pred_labels[loc][season][date].append((plbls, txt.replace('.txt', '.png'), confs))\n",
        "\n",
        "# ignore detections below threshold \n",
        "p_instance_dict = aggregate_instances(pred_labels, threshold=0.5)"
      ]
    },
    {
      "cell_type": "markdown",
      "metadata": {
        "id": "Ul0iSogrQEqf"
      },
      "source": [
        "Outlier Faciltiies Plot:"
      ]
    },
    {
      "cell_type": "code",
      "execution_count": 41,
      "metadata": {
        "id": "lDhEhjAPPzjj"
      },
      "outputs": [],
      "source": [
        "apps_p_season = []\n",
        "n_apps = []\n",
        "for loc in p_instance_dict:\n",
        "  apps = 0\n",
        "  for s in p_instance_dict[loc]:\n",
        "    apps+=len(p_instance_dict[loc][s])\n",
        "    n_apps.append(len(p_instance_dict[loc][s]))\n",
        "  apps_p_season.append(apps/3)"
      ]
    },
    {
      "cell_type": "code",
      "execution_count": 42,
      "metadata": {
        "colab": {
          "base_uri": "https://localhost:8080/",
          "height": 280
        },
        "id": "1DOXtiv2QLfx",
        "outputId": "53f49427-cfaa-4870-d64c-602752d1ebb5"
      },
      "outputs": [
        {
          "data": {
            "image/png": "[encoded data removed]",
            "text/plain": [
              "<Figure size 432x288 with 1 Axes>"
            ]
          },
          "metadata": {},
          "output_type": "display_data"
        }
      ],
      "source": [
        "ninety = np.quantile(n_apps, 0.9)\n",
        "df = pd.DataFrame({'n_app':n_apps, '90th percentile':[x>=ninety for x in n_apps]})\n",
        "g= sns.histplot(df, x = 'n_app', bins= 25, hue='90th percentile', multiple='stack')\n",
        "plt.xlabel('Application events in season')\n",
        "plt.ylabel('Count')\n",
        "g.legend({'90th percentile':'90th percentile'})\n",
        "plt.savefig('apps_season_hist.png', dpi=300, bbox_inches='tight')\n",
        "plt.show()"
      ]
    },
    {
      "cell_type": "markdown",
      "metadata": {
        "id": "sDD_QMx5TvBK"
      },
      "source": [
        "Collect Applicaion date information:"
      ]
    },
    {
      "cell_type": "code",
      "execution_count": 43,
      "metadata": {
        "colab": {
          "base_uri": "https://localhost:8080/",
          "height": 49,
          "referenced_widgets": [
            "c0e5b89c5ac3452abcb8387c8fa5734d",
            "d0287f4f4b5e4ae4a4666a16b12d23ad",
            "30083b56655244e783bbe3853b31ac58",
            "bdaa9585f60b43a29d8230e44b0f98ef",
            "372643ffcd694cd89681b1095e6413a3",
            "518dc4359d24418a99490f28051fbc98",
            "18712f12a39e4bcda389b3963ff4e40f",
            "3c836e0a32404ebeab25872282df7673",
            "de7b5933c3204622bf28a1556621e2d3",
            "ff94fb3f02a54160b22c4e25562b6bb6",
            "dbcd4d5ca8924942b43224617b54aa1c"
          ]
        },
        "id": "fpREOfNrTumi",
        "outputId": "27de73f1-2cab-4191-a0e6-8ca9c5dfb1e6"
      },
      "outputs": [
        {
          "data": {
            "application/vnd.jupyter.widget-view+json": {
              "model_id": "c0e5b89c5ac3452abcb8387c8fa5734d",
              "version_major": 2,
              "version_minor": 0
            },
            "text/plain": [
              "  0%|          | 0/158 [00:00<?, ?it/s]"
            ]
          },
          "metadata": {},
          "output_type": "display_data"
        }
      ],
      "source": [
        "time_since_last_instance = []\n",
        "app_dates = []\n",
        "locs = []\n",
        "for loc in tqdm(p_instance_dict):\n",
        "  for season in p_instance_dict[loc]:\n",
        "    starts = []\n",
        "    for app in p_instance_dict[loc][season]:\n",
        "      app_dates.append(app['start'])\n",
        "      locs.append(loc)\n",
        "      starts.append(app['start'])\n",
        "\n",
        "    starts = sorted(starts)\n",
        "    deltas = []\n",
        "    for i in range(1,len(starts)):\n",
        "      #if starts[i] == starts[i-1]:\n",
        "      #  continue\n",
        "      #else:\n",
        "      deltas.append(starts[i]-starts[i-1])\n",
        "      \n",
        "    time_since_last_instance += deltas"
      ]
    },
    {
      "cell_type": "markdown",
      "metadata": {
        "id": "LKYMhGaWVozq"
      },
      "source": [
        "Time between events:"
      ]
    },
    {
      "cell_type": "code",
      "execution_count": 44,
      "metadata": {
        "colab": {
          "base_uri": "https://localhost:8080/",
          "height": 298
        },
        "id": "iT3jPrA_hnB6",
        "outputId": "159f3e94-b291-4ae8-b499-d49c3479aeb3"
      },
      "outputs": [
        {
          "data": {
            "text/plain": [
              "Text(0, 0.5, 'number of application instances')"
            ]
          },
          "execution_count": 44,
          "metadata": {},
          "output_type": "execute_result"
        },
        {
          "data": {
            "image/png": "[encoded data removed]",
            "text/plain": [
              "<Figure size 432x288 with 1 Axes>"
            ]
          },
          "metadata": {},
          "output_type": "display_data"
        }
      ],
      "source": [
        "days_since_last_app = [delta.days for delta in time_since_last_instance]\n",
        "\n",
        "plt.hist(days_since_last_app, bins= 100, log=False)\n",
        "plt.xlabel('Days since previous application')\n",
        "plt.ylabel('number of application instances')"
      ]
    },
    {
      "cell_type": "code",
      "execution_count": 45,
      "metadata": {
        "colab": {
          "base_uri": "https://localhost:8080/",
          "height": 283
        },
        "id": "wEcqVjiInNx7",
        "outputId": "1e033d80-2458-4eab-e322-1e2a1584f4cd"
      },
      "outputs": [
        {
          "data": {
            "image/png": "[encoded data removed]",
            "text/plain": [
              "<Figure size 432x288 with 1 Axes>"
            ]
          },
          "metadata": {},
          "output_type": "display_data"
        }
      ],
      "source": [
        "sns.ecdfplot(days_since_last_app)\n",
        "\n",
        "plt.ylabel(\"Proportion of application events\")\n",
        "plt.xlabel(\"Number of days since previous application\")\n",
        "\n",
        "plt.savefig('days_between_cdf.png', dpi=300, bbox_inches='tight')\n",
        "plt.show()"
      ]
    },
    {
      "cell_type": "markdown",
      "metadata": {
        "id": "Lzti5EVYTYhH"
      },
      "source": [
        "Weekly application trend"
      ]
    },
    {
      "cell_type": "code",
      "execution_count": 46,
      "metadata": {
        "colab": {
          "base_uri": "https://localhost:8080/",
          "height": 318
        },
        "id": "OwHwc93mTX4w",
        "outputId": "1357e23e-17c5-4a19-e268-f1f0a334282c"
      },
      "outputs": [
        {
          "name": "stderr",
          "output_type": "stream",
          "text": [
            "/usr/local/lib/python3.7/dist-packages/ipykernel_launcher.py:22: FutureWarning: weekofyear and week have been deprecated, please use DatetimeIndex.isocalendar().week instead, which returns a Series.  To exactly reproduce the behavior of week and weekofyear and return an Index, you may call pd.Int64Index(idx.isocalendar().week)\n"
          ]
        },
        {
          "data": {
            "image/png": "[encoded data removed]",
            "text/plain": [
              "<Figure size 432x288 with 1 Axes>"
            ]
          },
          "metadata": {},
          "output_type": "display_data"
        }
      ],
      "source": [
        "from math import ceil\n",
        "import datetime as dt\n",
        "\n",
        "\n",
        "df = pd.DataFrame({'date':app_dates, 'app':1}).set_index('date')\n",
        "\n",
        "def get_week_of_month(date):\n",
        "  #https://stackoverflow.com/questions/3806473/week-number-of-the-month\n",
        "    \"\"\" Returns the week of the month for the specified date.\n",
        "    \"\"\"\n",
        "\n",
        "    first_day = date.replace(day=1)\n",
        "\n",
        "    dom = date.day\n",
        "    adjusted_dom = dom + first_day.weekday()\n",
        "\n",
        "    return int(ceil(adjusted_dom/7.0))\n",
        "\n",
        "weekly = df.resample('1W').sum()\n",
        "\n",
        "weekly['month'] = weekly.index.month\n",
        "weekly['week'] = weekly.index.week\n",
        "weekly['month'] = pd.Categorical(weekly['month'], [11, 12, 1, 2, 3, 4])\n",
        "weekly['week']= pd.Categorical(weekly['week'], [i+44 for i in range(8)]+[i for i in range(1, 14)])\n",
        "weekly.groupby(['week']).app.sum().plot()\n",
        "plt.xticks([0, 4, 8, 12, 16, 20], ['November', 'December', 'January', 'February', 'March', 'April'])\n",
        "plt.xlabel('Month')\n",
        "plt.ylabel('Weekly event count')\n",
        "plt.savefig('./app_weekly_pattern.png', dpi=300, bbox_inches='tight')\n",
        "plt.show()"
      ]
    },
    {
      "cell_type": "markdown",
      "metadata": {
        "id": "zHFGASgeWD3u"
      },
      "source": [
        "Percent of time with application on field"
      ]
    },
    {
      "cell_type": "code",
      "execution_count": 47,
      "metadata": {
        "colab": {
          "base_uri": "https://localhost:8080/",
          "height": 49,
          "referenced_widgets": [
            "8a74fee9f67843c6b1ab1e2338270b6c",
            "73468185d3e54ee0ad490bc79b73b8c8",
            "6cf3ba8fee8a4eb3bedd1667dc045b66",
            "fa9a1aa439f941d1bdd5da847243fb44",
            "1b9eda799f964670a2b4fc595e60d753",
            "a772946e4aa345d49f556d7fd17f48a7",
            "cfe7789b597a48469821f0b19dffb232",
            "41bd8e7681804bc2b7c1805fbcafcd2a",
            "d37a74de6fcc46d9b72df671f1eef706",
            "63c4afe0a17244b998d1fde0b63fc739",
            "a689c6445a804ab0a969b2fcd17d2f3a"
          ]
        },
        "id": "kLiqR7BiWKU0",
        "outputId": "b4a5d549-f06e-489d-bcc1-bfdf36882b36"
      },
      "outputs": [
        {
          "data": {
            "application/vnd.jupyter.widget-view+json": {
              "model_id": "8a74fee9f67843c6b1ab1e2338270b6c",
              "version_major": 2,
              "version_minor": 0
            },
            "text/plain": [
              "  0%|          | 0/158 [00:00<?, ?it/s]"
            ]
          },
          "metadata": {},
          "output_type": "display_data"
        }
      ],
      "source": [
        "days_of_app = []\n",
        "pct_of_app = []\n",
        "loc_mean_app_pct = []\n",
        "for loc in tqdm(p_instance_dict):\n",
        "  time_covered= []\n",
        "  pct_covered = []\n",
        "  for season in p_instance_dict[loc]:\n",
        "    days_in_season = (datetime(int(season)+1, 3, 31) - datetime(int(season), 11, 1)).days\n",
        "    ends = [datetime(int(season), 11, 1)]\n",
        "    app_days = 0\n",
        "    if len(p_instance_dict[loc][season]) == 0:\n",
        "      continue\n",
        "    applications = pd.DataFrame(p_instance_dict[loc][season]).sort_values('start')\n",
        "    for i, app in applications.iterrows():\n",
        "      if app['start'] <= sorted(ends)[-1]:\n",
        "        days_over = (app['end'] - sorted(ends)[-1]).days\n",
        "        if days_over>0:\n",
        "          app_days+= days_over\n",
        "          ends.append(app['end'])\n",
        "      else:\n",
        "        app_days+=(app['end'] - app['start']).days\n",
        "        ends.append(app['end'])\n",
        "\n",
        "    time_covered.append(app_days)\n",
        "    pct_covered.append(app_days/days_in_season)\n",
        "  days_of_app+=time_covered\n",
        "  pct_of_app+=pct_covered\n",
        "  loc_mean_app_pct.append(np.mean(pct_of_app))"
      ]
    },
    {
      "cell_type": "code",
      "execution_count": 48,
      "metadata": {
        "colab": {
          "base_uri": "https://localhost:8080/",
          "height": 280
        },
        "id": "CswnASsyWG1a",
        "outputId": "6822da68-ebb8-4058-b678-b84922482617"
      },
      "outputs": [
        {
          "data": {
            "image/png": "[encoded data removed]",
            "text/plain": [
              "<Figure size 432x288 with 1 Axes>"
            ]
          },
          "metadata": {},
          "output_type": "display_data"
        }
      ],
      "source": [
        "sns.histplot(pct_of_app, bins=35, )\n",
        "plt.xlabel('Portion of days in season with application')\n",
        "plt.ylabel('Count')\n",
        "plt.savefig('coverage_hist.png', bbox_inches='tight', dpi=300)"
      ]
    }
  ],
  "metadata": {
    "colab": {
      "provenance": []
    },
    "kernelspec": {
      "display_name": "Python 3",
      "name": "python3"
    },
    "language_info": {
      "name": "python"
    },
    "widgets": {
      "application/vnd.jupyter.widget-state+json": {
        "18712f12a39e4bcda389b3963ff4e40f": {
          "model_module": "@jupyter-widgets/controls",
          "model_module_version": "1.5.0",
          "model_name": "DescriptionStyleModel",
          "state": {
            "_model_module": "@jupyter-widgets/controls",
            "_model_module_version": "1.5.0",
            "_model_name": "DescriptionStyleModel",
            "_view_count": null,
            "_view_module": "@jupyter-widgets/base",
            "_view_module_version": "1.2.0",
            "_view_name": "StyleView",
            "description_width": ""
          }
        },
        "1b9eda799f964670a2b4fc595e60d753": {
          "model_module": "@jupyter-widgets/base",
          "model_module_version": "1.2.0",
          "model_name": "LayoutModel",
          "state": {
            "_model_module": "@jupyter-widgets/base",
            "_model_module_version": "1.2.0",
            "_model_name": "LayoutModel",
            "_view_count": null,
            "_view_module": "@jupyter-widgets/base",
            "_view_module_version": "1.2.0",
            "_view_name": "LayoutView",
            "align_content": null,
            "align_items": null,
            "align_self": null,
            "border": null,
            "bottom": null,
            "display": null,
            "flex": null,
            "flex_flow": null,
            "grid_area": null,
            "grid_auto_columns": null,
            "grid_auto_flow": null,
            "grid_auto_rows": null,
            "grid_column": null,
            "grid_gap": null,
            "grid_row": null,
            "grid_template_areas": null,
            "grid_template_columns": null,
            "grid_template_rows": null,
            "height": null,
            "justify_content": null,
            "justify_items": null,
            "left": null,
            "margin": null,
            "max_height": null,
            "max_width": null,
            "min_height": null,
            "min_width": null,
            "object_fit": null,
            "object_position": null,
            "order": null,
            "overflow": null,
            "overflow_x": null,
            "overflow_y": null,
            "padding": null,
            "right": null,
            "top": null,
            "visibility": null,
            "width": null
          }
        },
        "30083b56655244e783bbe3853b31ac58": {
          "model_module": "@jupyter-widgets/controls",
          "model_module_version": "1.5.0",
          "model_name": "FloatProgressModel",
          "state": {
            "_dom_classes": [],
            "_model_module": "@jupyter-widgets/controls",
            "_model_module_version": "1.5.0",
            "_model_name": "FloatProgressModel",
            "_view_count": null,
            "_view_module": "@jupyter-widgets/controls",
            "_view_module_version": "1.5.0",
            "_view_name": "ProgressView",
            "bar_style": "success",
            "description": "",
            "description_tooltip": null,
            "layout": "IPY_MODEL_3c836e0a32404ebeab25872282df7673",
            "max": 158,
            "min": 0,
            "orientation": "horizontal",
            "style": "IPY_MODEL_de7b5933c3204622bf28a1556621e2d3",
            "value": 158
          }
        },
        "372643ffcd694cd89681b1095e6413a3": {
          "model_module": "@jupyter-widgets/base",
          "model_module_version": "1.2.0",
          "model_name": "LayoutModel",
          "state": {
            "_model_module": "@jupyter-widgets/base",
            "_model_module_version": "1.2.0",
            "_model_name": "LayoutModel",
            "_view_count": null,
            "_view_module": "@jupyter-widgets/base",
            "_view_module_version": "1.2.0",
            "_view_name": "LayoutView",
            "align_content": null,
            "align_items": null,
            "align_self": null,
            "border": null,
            "bottom": null,
            "display": null,
            "flex": null,
            "flex_flow": null,
            "grid_area": null,
            "grid_auto_columns": null,
            "grid_auto_flow": null,
            "grid_auto_rows": null,
            "grid_column": null,
            "grid_gap": null,
            "grid_row": null,
            "grid_template_areas": null,
            "grid_template_columns": null,
            "grid_template_rows": null,
            "height": null,
            "justify_content": null,
            "justify_items": null,
            "left": null,
            "margin": null,
            "max_height": null,
            "max_width": null,
            "min_height": null,
            "min_width": null,
            "object_fit": null,
            "object_position": null,
            "order": null,
            "overflow": null,
            "overflow_x": null,
            "overflow_y": null,
            "padding": null,
            "right": null,
            "top": null,
            "visibility": null,
            "width": null
          }
        },
        "3c836e0a32404ebeab25872282df7673": {
          "model_module": "@jupyter-widgets/base",
          "model_module_version": "1.2.0",
          "model_name": "LayoutModel",
          "state": {
            "_model_module": "@jupyter-widgets/base",
            "_model_module_version": "1.2.0",
            "_model_name": "LayoutModel",
            "_view_count": null,
            "_view_module": "@jupyter-widgets/base",
            "_view_module_version": "1.2.0",
            "_view_name": "LayoutView",
            "align_content": null,
            "align_items": null,
            "align_self": null,
            "border": null,
            "bottom": null,
            "display": null,
            "flex": null,
            "flex_flow": null,
            "grid_area": null,
            "grid_auto_columns": null,
            "grid_auto_flow": null,
            "grid_auto_rows": null,
            "grid_column": null,
            "grid_gap": null,
            "grid_row": null,
            "grid_template_areas": null,
            "grid_template_columns": null,
            "grid_template_rows": null,
            "height": null,
            "justify_content": null,
            "justify_items": null,
            "left": null,
            "margin": null,
            "max_height": null,
            "max_width": null,
            "min_height": null,
            "min_width": null,
            "object_fit": null,
            "object_position": null,
            "order": null,
            "overflow": null,
            "overflow_x": null,
            "overflow_y": null,
            "padding": null,
            "right": null,
            "top": null,
            "visibility": null,
            "width": null
          }
        },
        "41bd8e7681804bc2b7c1805fbcafcd2a": {
          "model_module": "@jupyter-widgets/base",
          "model_module_version": "1.2.0",
          "model_name": "LayoutModel",
          "state": {
            "_model_module": "@jupyter-widgets/base",
            "_model_module_version": "1.2.0",
            "_model_name": "LayoutModel",
            "_view_count": null,
            "_view_module": "@jupyter-widgets/base",
            "_view_module_version": "1.2.0",
            "_view_name": "LayoutView",
            "align_content": null,
            "align_items": null,
            "align_self": null,
            "border": null,
            "bottom": null,
            "display": null,
            "flex": null,
            "flex_flow": null,
            "grid_area": null,
            "grid_auto_columns": null,
            "grid_auto_flow": null,
            "grid_auto_rows": null,
            "grid_column": null,
            "grid_gap": null,
            "grid_row": null,
            "grid_template_areas": null,
            "grid_template_columns": null,
            "grid_template_rows": null,
            "height": null,
            "justify_content": null,
            "justify_items": null,
            "left": null,
            "margin": null,
            "max_height": null,
            "max_width": null,
            "min_height": null,
            "min_width": null,
            "object_fit": null,
            "object_position": null,
            "order": null,
            "overflow": null,
            "overflow_x": null,
            "overflow_y": null,
            "padding": null,
            "right": null,
            "top": null,
            "visibility": null,
            "width": null
          }
        },
        "518dc4359d24418a99490f28051fbc98": {
          "model_module": "@jupyter-widgets/base",
          "model_module_version": "1.2.0",
          "model_name": "LayoutModel",
          "state": {
            "_model_module": "@jupyter-widgets/base",
            "_model_module_version": "1.2.0",
            "_model_name": "LayoutModel",
            "_view_count": null,
            "_view_module": "@jupyter-widgets/base",
            "_view_module_version": "1.2.0",
            "_view_name": "LayoutView",
            "align_content": null,
            "align_items": null,
            "align_self": null,
            "border": null,
            "bottom": null,
            "display": null,
            "flex": null,
            "flex_flow": null,
            "grid_area": null,
            "grid_auto_columns": null,
            "grid_auto_flow": null,
            "grid_auto_rows": null,
            "grid_column": null,
            "grid_gap": null,
            "grid_row": null,
            "grid_template_areas": null,
            "grid_template_columns": null,
            "grid_template_rows": null,
            "height": null,
            "justify_content": null,
            "justify_items": null,
            "left": null,
            "margin": null,
            "max_height": null,
            "max_width": null,
            "min_height": null,
            "min_width": null,
            "object_fit": null,
            "object_position": null,
            "order": null,
            "overflow": null,
            "overflow_x": null,
            "overflow_y": null,
            "padding": null,
            "right": null,
            "top": null,
            "visibility": null,
            "width": null
          }
        },
        "63c4afe0a17244b998d1fde0b63fc739": {
          "model_module": "@jupyter-widgets/base",
          "model_module_version": "1.2.0",
          "model_name": "LayoutModel",
          "state": {
            "_model_module": "@jupyter-widgets/base",
            "_model_module_version": "1.2.0",
            "_model_name": "LayoutModel",
            "_view_count": null,
            "_view_module": "@jupyter-widgets/base",
            "_view_module_version": "1.2.0",
            "_view_name": "LayoutView",
            "align_content": null,
            "align_items": null,
            "align_self": null,
            "border": null,
            "bottom": null,
            "display": null,
            "flex": null,
            "flex_flow": null,
            "grid_area": null,
            "grid_auto_columns": null,
            "grid_auto_flow": null,
            "grid_auto_rows": null,
            "grid_column": null,
            "grid_gap": null,
            "grid_row": null,
            "grid_template_areas": null,
            "grid_template_columns": null,
            "grid_template_rows": null,
            "height": null,
            "justify_content": null,
            "justify_items": null,
            "left": null,
            "margin": null,
            "max_height": null,
            "max_width": null,
            "min_height": null,
            "min_width": null,
            "object_fit": null,
            "object_position": null,
            "order": null,
            "overflow": null,
            "overflow_x": null,
            "overflow_y": null,
            "padding": null,
            "right": null,
            "top": null,
            "visibility": null,
            "width": null
          }
        },
        "6cf3ba8fee8a4eb3bedd1667dc045b66": {
          "model_module": "@jupyter-widgets/controls",
          "model_module_version": "1.5.0",
          "model_name": "FloatProgressModel",
          "state": {
            "_dom_classes": [],
            "_model_module": "@jupyter-widgets/controls",
            "_model_module_version": "1.5.0",
            "_model_name": "FloatProgressModel",
            "_view_count": null,
            "_view_module": "@jupyter-widgets/controls",
            "_view_module_version": "1.5.0",
            "_view_name": "ProgressView",
            "bar_style": "success",
            "description": "",
            "description_tooltip": null,
            "layout": "IPY_MODEL_41bd8e7681804bc2b7c1805fbcafcd2a",
            "max": 158,
            "min": 0,
            "orientation": "horizontal",
            "style": "IPY_MODEL_d37a74de6fcc46d9b72df671f1eef706",
            "value": 158
          }
        },
        "73468185d3e54ee0ad490bc79b73b8c8": {
          "model_module": "@jupyter-widgets/controls",
          "model_module_version": "1.5.0",
          "model_name": "HTMLModel",
          "state": {
            "_dom_classes": [],
            "_model_module": "@jupyter-widgets/controls",
            "_model_module_version": "1.5.0",
            "_model_name": "HTMLModel",
            "_view_count": null,
            "_view_module": "@jupyter-widgets/controls",
            "_view_module_version": "1.5.0",
            "_view_name": "HTMLView",
            "description": "",
            "description_tooltip": null,
            "layout": "IPY_MODEL_a772946e4aa345d49f556d7fd17f48a7",
            "placeholder": "​",
            "style": "IPY_MODEL_cfe7789b597a48469821f0b19dffb232",
            "value": "100%"
          }
        },
        "8a74fee9f67843c6b1ab1e2338270b6c": {
          "model_module": "@jupyter-widgets/controls",
          "model_module_version": "1.5.0",
          "model_name": "HBoxModel",
          "state": {
            "_dom_classes": [],
            "_model_module": "@jupyter-widgets/controls",
            "_model_module_version": "1.5.0",
            "_model_name": "HBoxModel",
            "_view_count": null,
            "_view_module": "@jupyter-widgets/controls",
            "_view_module_version": "1.5.0",
            "_view_name": "HBoxView",
            "box_style": "",
            "children": [
              "IPY_MODEL_73468185d3e54ee0ad490bc79b73b8c8",
              "IPY_MODEL_6cf3ba8fee8a4eb3bedd1667dc045b66",
              "IPY_MODEL_fa9a1aa439f941d1bdd5da847243fb44"
            ],
            "layout": "IPY_MODEL_1b9eda799f964670a2b4fc595e60d753"
          }
        },
        "a689c6445a804ab0a969b2fcd17d2f3a": {
          "model_module": "@jupyter-widgets/controls",
          "model_module_version": "1.5.0",
          "model_name": "DescriptionStyleModel",
          "state": {
            "_model_module": "@jupyter-widgets/controls",
            "_model_module_version": "1.5.0",
            "_model_name": "DescriptionStyleModel",
            "_view_count": null,
            "_view_module": "@jupyter-widgets/base",
            "_view_module_version": "1.2.0",
            "_view_name": "StyleView",
            "description_width": ""
          }
        },
        "a772946e4aa345d49f556d7fd17f48a7": {
          "model_module": "@jupyter-widgets/base",
          "model_module_version": "1.2.0",
          "model_name": "LayoutModel",
          "state": {
            "_model_module": "@jupyter-widgets/base",
            "_model_module_version": "1.2.0",
            "_model_name": "LayoutModel",
            "_view_count": null,
            "_view_module": "@jupyter-widgets/base",
            "_view_module_version": "1.2.0",
            "_view_name": "LayoutView",
            "align_content": null,
            "align_items": null,
            "align_self": null,
            "border": null,
            "bottom": null,
            "display": null,
            "flex": null,
            "flex_flow": null,
            "grid_area": null,
            "grid_auto_columns": null,
            "grid_auto_flow": null,
            "grid_auto_rows": null,
            "grid_column": null,
            "grid_gap": null,
            "grid_row": null,
            "grid_template_areas": null,
            "grid_template_columns": null,
            "grid_template_rows": null,
            "height": null,
            "justify_content": null,
            "justify_items": null,
            "left": null,
            "margin": null,
            "max_height": null,
            "max_width": null,
            "min_height": null,
            "min_width": null,
            "object_fit": null,
            "object_position": null,
            "order": null,
            "overflow": null,
            "overflow_x": null,
            "overflow_y": null,
            "padding": null,
            "right": null,
            "top": null,
            "visibility": null,
            "width": null
          }
        },
        "bdaa9585f60b43a29d8230e44b0f98ef": {
          "model_module": "@jupyter-widgets/controls",
          "model_module_version": "1.5.0",
          "model_name": "HTMLModel",
          "state": {
            "_dom_classes": [],
            "_model_module": "@jupyter-widgets/controls",
            "_model_module_version": "1.5.0",
            "_model_name": "HTMLModel",
            "_view_count": null,
            "_view_module": "@jupyter-widgets/controls",
            "_view_module_version": "1.5.0",
            "_view_name": "HTMLView",
            "description": "",
            "description_tooltip": null,
            "layout": "IPY_MODEL_ff94fb3f02a54160b22c4e25562b6bb6",
            "placeholder": "​",
            "style": "IPY_MODEL_dbcd4d5ca8924942b43224617b54aa1c",
            "value": " 158/158 [00:00&lt;00:00, 4633.72it/s]"
          }
        },
        "c0e5b89c5ac3452abcb8387c8fa5734d": {
          "model_module": "@jupyter-widgets/controls",
          "model_module_version": "1.5.0",
          "model_name": "HBoxModel",
          "state": {
            "_dom_classes": [],
            "_model_module": "@jupyter-widgets/controls",
            "_model_module_version": "1.5.0",
            "_model_name": "HBoxModel",
            "_view_count": null,
            "_view_module": "@jupyter-widgets/controls",
            "_view_module_version": "1.5.0",
            "_view_name": "HBoxView",
            "box_style": "",
            "children": [
              "IPY_MODEL_d0287f4f4b5e4ae4a4666a16b12d23ad",
              "IPY_MODEL_30083b56655244e783bbe3853b31ac58",
              "IPY_MODEL_bdaa9585f60b43a29d8230e44b0f98ef"
            ],
            "layout": "IPY_MODEL_372643ffcd694cd89681b1095e6413a3"
          }
        },
        "cfe7789b597a48469821f0b19dffb232": {
          "model_module": "@jupyter-widgets/controls",
          "model_module_version": "1.5.0",
          "model_name": "DescriptionStyleModel",
          "state": {
            "_model_module": "@jupyter-widgets/controls",
            "_model_module_version": "1.5.0",
            "_model_name": "DescriptionStyleModel",
            "_view_count": null,
            "_view_module": "@jupyter-widgets/base",
            "_view_module_version": "1.2.0",
            "_view_name": "StyleView",
            "description_width": ""
          }
        },
        "d0287f4f4b5e4ae4a4666a16b12d23ad": {
          "model_module": "@jupyter-widgets/controls",
          "model_module_version": "1.5.0",
          "model_name": "HTMLModel",
          "state": {
            "_dom_classes": [],
            "_model_module": "@jupyter-widgets/controls",
            "_model_module_version": "1.5.0",
            "_model_name": "HTMLModel",
            "_view_count": null,
            "_view_module": "@jupyter-widgets/controls",
            "_view_module_version": "1.5.0",
            "_view_name": "HTMLView",
            "description": "",
            "description_tooltip": null,
            "layout": "IPY_MODEL_518dc4359d24418a99490f28051fbc98",
            "placeholder": "​",
            "style": "IPY_MODEL_18712f12a39e4bcda389b3963ff4e40f",
            "value": "100%"
          }
        },
        "d37a74de6fcc46d9b72df671f1eef706": {
          "model_module": "@jupyter-widgets/controls",
          "model_module_version": "1.5.0",
          "model_name": "ProgressStyleModel",
          "state": {
            "_model_module": "@jupyter-widgets/controls",
            "_model_module_version": "1.5.0",
            "_model_name": "ProgressStyleModel",
            "_view_count": null,
            "_view_module": "@jupyter-widgets/base",
            "_view_module_version": "1.2.0",
            "_view_name": "StyleView",
            "bar_color": null,
            "description_width": ""
          }
        },
        "dbcd4d5ca8924942b43224617b54aa1c": {
          "model_module": "@jupyter-widgets/controls",
          "model_module_version": "1.5.0",
          "model_name": "DescriptionStyleModel",
          "state": {
            "_model_module": "@jupyter-widgets/controls",
            "_model_module_version": "1.5.0",
            "_model_name": "DescriptionStyleModel",
            "_view_count": null,
            "_view_module": "@jupyter-widgets/base",
            "_view_module_version": "1.2.0",
            "_view_name": "StyleView",
            "description_width": ""
          }
        },
        "de7b5933c3204622bf28a1556621e2d3": {
          "model_module": "@jupyter-widgets/controls",
          "model_module_version": "1.5.0",
          "model_name": "ProgressStyleModel",
          "state": {
            "_model_module": "@jupyter-widgets/controls",
            "_model_module_version": "1.5.0",
            "_model_name": "ProgressStyleModel",
            "_view_count": null,
            "_view_module": "@jupyter-widgets/base",
            "_view_module_version": "1.2.0",
            "_view_name": "StyleView",
            "bar_color": null,
            "description_width": ""
          }
        },
        "fa9a1aa439f941d1bdd5da847243fb44": {
          "model_module": "@jupyter-widgets/controls",
          "model_module_version": "1.5.0",
          "model_name": "HTMLModel",
          "state": {
            "_dom_classes": [],
            "_model_module": "@jupyter-widgets/controls",
            "_model_module_version": "1.5.0",
            "_model_name": "HTMLModel",
            "_view_count": null,
            "_view_module": "@jupyter-widgets/controls",
            "_view_module_version": "1.5.0",
            "_view_name": "HTMLView",
            "description": "",
            "description_tooltip": null,
            "layout": "IPY_MODEL_63c4afe0a17244b998d1fde0b63fc739",
            "placeholder": "​",
            "style": "IPY_MODEL_a689c6445a804ab0a969b2fcd17d2f3a",
            "value": " 158/158 [00:01&lt;00:00, 158.08it/s]"
          }
        },
        "ff94fb3f02a54160b22c4e25562b6bb6": {
          "model_module": "@jupyter-widgets/base",
          "model_module_version": "1.2.0",
          "model_name": "LayoutModel",
          "state": {
            "_model_module": "@jupyter-widgets/base",
            "_model_module_version": "1.2.0",
            "_model_name": "LayoutModel",
            "_view_count": null,
            "_view_module": "@jupyter-widgets/base",
            "_view_module_version": "1.2.0",
            "_view_name": "LayoutView",
            "align_content": null,
            "align_items": null,
            "align_self": null,
            "border": null,
            "bottom": null,
            "display": null,
            "flex": null,
            "flex_flow": null,
            "grid_area": null,
            "grid_auto_columns": null,
            "grid_auto_flow": null,
            "grid_auto_rows": null,
            "grid_column": null,
            "grid_gap": null,
            "grid_row": null,
            "grid_template_areas": null,
            "grid_template_columns": null,
            "grid_template_rows": null,
            "height": null,
            "justify_content": null,
            "justify_items": null,
            "left": null,
            "margin": null,
            "max_height": null,
            "max_width": null,
            "min_height": null,
            "min_width": null,
            "object_fit": null,
            "object_position": null,
            "order": null,
            "overflow": null,
            "overflow_x": null,
            "overflow_y": null,
            "padding": null,
            "right": null,
            "top": null,
            "visibility": null,
            "width": null
          }
        }
      }
    }
  },
  "nbformat": 4,
  "nbformat_minor": 0
}
