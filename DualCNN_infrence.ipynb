{
  "cells": [
    {
      "cell_type": "markdown",
      "metadata": {
        "id": "PU0JeJj0lWED"
      },
      "source": [
        "# **Requirements and imports**"
      ]
    },
    {
      "cell_type": "code",
      "execution_count": 2,
      "metadata": {
        "id": "ckHPtK3I06s1"
      },
      "outputs": [],
      "source": [
        "import tensorflow as tf\n",
        "import numpy as np\n",
        "import pandas as pd\n",
        "import random\n",
        "import os\n",
        "from tqdm.notebook import tqdm\n",
        "\n",
        "from matplotlib import pyplot as plt\n",
        "from imutils import paths\n",
        "import argparse\n",
        "import cv2\n",
        "import os\n",
        "\n",
        "import time\n",
        "\n",
        "import pickle \n",
        "from sklearn.model_selection import train_test_split\n",
        "from sklearn.metrics import roc_curve\n",
        "import matplotlib.pyplot as plt\n",
        "from tensorflow.keras import datasets, layers, models, losses\n",
        "from tqdm.keras import TqdmCallback"
      ]
    },
    {
      "cell_type": "markdown",
      "metadata": {
        "id": "WAM-Y59GUe-d"
      },
      "source": [
        "# **Model definition/setup**"
      ]
    },
    {
      "cell_type": "code",
      "execution_count": 4,
      "metadata": {
        "id": "kNVF2YuR9oo2"
      },
      "outputs": [],
      "source": [
        "data_augmentation = tf.keras.Sequential([\n",
        "      layers.RandomFlip(\"horizontal_and_vertical\"),\n",
        "      layers.RandomRotation(0.2),\n",
        "    ])\n",
        "\n",
        "def create_model(data_augmentation=None, l2_reg_factor= 0.001, dropout=0.3):\n",
        "  #with tf.device(\"/gpu:0\"):\n",
        "  l2_regularizer = tf.keras.regularizers.l2(l2_reg_factor)\n",
        "\n",
        "  image_1_input = tf.keras.Input(shape=(image_size[0], image_size[1], 3), name='image_1_input')\n",
        "  image_2_input = tf.keras.Input(shape=(image_size[0], image_size[1], 3), name='image_2_input')\n",
        "\n",
        "  # Rescale\n",
        "  X1 = tf.keras.applications.mobilenet.preprocess_input(image_1_input)\n",
        "  X2 = tf.keras.applications.mobilenet.preprocess_input(image_2_input)\n",
        "\n",
        "  # If we want built in data augmentation\n",
        "  if data_augmentation != None:\n",
        "    X1 = data_augmentation(X1)\n",
        "    X2 = data_augmentation(X2)\n",
        "\n",
        "  # One convolutional layer\n",
        "  X1 = layers.Conv2D(3, kernel_size=(5, 5), padding='same', kernel_regularizer = l2_regularizer)(X1)\n",
        "  X2 = layers.Conv2D(3, kernel_size=(5, 5), padding='same', kernel_regularizer = l2_regularizer)(X2)\n",
        "  \n",
        "  #activation\n",
        "  X1 = layers.ReLU()(X1)\n",
        "  X2 = layers.ReLU()(X2)\n",
        "\n",
        "  #batch normalization to regularize training\n",
        "  #X1 = layers.BatchNormalization()(X1)\n",
        "  #X2 = layers.BatchNormalization()(X2)\n",
        "\n",
        "  #dropout\n",
        "  X1 = layers.Dropout(dropout)(X1)\n",
        "  X2 = layers.Dropout(dropout)(X2)\n",
        "\n",
        "  # Max pooling layer\n",
        "  X1 = layers.MaxPooling2D()(X1)\n",
        "  X2 = layers.MaxPooling2D()(X2)\n",
        "  \n",
        "  pretrained_model1 = tf.keras.applications.Xception(\n",
        "    weights='imagenet',  # Load weights pre-trained on ImageNet.\n",
        "    input_shape=(256, 256, 3),\n",
        "    include_top=False)  # Do not include the ImageNet classifier at the top.\n",
        "\n",
        "  pretrained_model1.trainable=True #\n",
        "  #pretrained_model2.trainable=False\n",
        "\n",
        "  X1 = pretrained_model1(X1)\n",
        "  X2 = pretrained_model1(X2)\n",
        "\n",
        "  # Flattening\n",
        "  X1 = tf.keras.layers.GlobalAveragePooling2D()(X1)\n",
        "  X2 = tf.keras.layers.GlobalAveragePooling2D()(X2)\n",
        "  \n",
        "  X = layers.Concatenate(axis=1)([X1, X2])\n",
        "\n",
        "  # # First dense\n",
        "   #X = layers.Dense(512, kernel_regularizer = l2_regularizer)(X)\n",
        "   #X = layers.ReLU()(X)\n",
        "  # #X = layers.BatchNormalization()(X)\n",
        "   #X = layers.Dropout(dropout)(X)\n",
        "  \n",
        "  # #second dense\n",
        "   #X = layers.Dense(256, kernel_regularizer = l2_regularizer)(X)\n",
        "   #X = layers.ReLU()(X)\n",
        "  # #X = layers.BatchNormalization()(X)\n",
        "   #X = layers.Dropout(dropout)(X)\n",
        "\n",
        "  #second dense\n",
        "  X = layers.Dense(64, kernel_regularizer = l2_regularizer)(X)\n",
        "  #X = layers.ReLU()(X)\n",
        "  #X = layers.BatchNormalization()(X)\n",
        "  X = layers.Dropout(dropout)(X)\n",
        "\n",
        "  # Output\n",
        "  outputs = layers.Dense(1)(X)\n",
        "\n",
        "  model = tf.keras.Model(inputs=[image_1_input, image_2_input], outputs=outputs)\n",
        "  return model"
      ]
    },
    {
      "cell_type": "code",
      "execution_count": 12,
      "metadata": {
        "id": "_qYD5URZB-3t"
      },
      "outputs": [],
      "source": [
        "def get_compiled_model(data_augmentation= None, l2_reg_factor= 0.001, dropout=0.3, lrate=0.005):\n",
        "      loss_object = tf.keras.losses.BinaryCrossentropy(from_logits=True)\n",
        "      model = create_model(data_augmentation, l2_reg_factor, dropout)\n",
        "      optimizer = tf.keras.optimizers.SGD(learning_rate=lrate)\n",
        "      model.compile(optimizer = optimizer,\n",
        "                    loss=loss_object,\n",
        "                    metrics = [tf.keras.metrics.BinaryAccuracy(threshold=.0)])\n",
        "      return model\n",
        "      \n",
        "def make_or_restore_model(infolder, data_augmentation= None, l2_reg_factor= 0.001, dropout=0.3, lrate=0.005):\n",
        "    # Either restore the latest model, or create a fresh one\n",
        "    # if there is no checkpoint available.\n",
        "    checkpoints = [os.path.join(infolder, name) for name in os.listdir(infolder)]\n",
        "    if checkpoints:\n",
        "        latest_checkpoint = max(checkpoints, key=os.path.getmtime)\n",
        "        print(\"Restoring from\", latest_checkpoint)\n",
        "        return tf.keras.models.load_model(latest_checkpoint)    \n",
        "    else:\n",
        "      print(\"Creating a new model\")\n",
        "      return get_compiled_model(data_augmentation, l2_reg_factor, dropout, lrate=lrate)"
      ]
    },
    {
      "cell_type": "markdown",
      "metadata": {
        "id": "9hoQrtVAmq3i"
      },
      "source": [
        "# Classification Data Testing"
      ]
    },
    {
      "cell_type": "code",
      "execution_count": 15,
      "metadata": {
        "colab": {
          "base_uri": "https://localhost:8080/"
        },
        "id": "qeIR55hfXwqp",
        "outputId": "f229f132-1944-4f58-ec45-f7dcac6e4b8a"
      },
      "outputs": [
        {
          "name": "stdout",
          "output_type": "stream",
          "text": [
            "Restoring from /gdrive/Shareddrives/land-app-public/model_weights/dual_cnn/best_model\n"
          ]
        }
      ],
      "source": [
        "save_folder = 'Land Application Data/model_weights/dual_cnn/'\n",
        "model = make_or_restore_model(save_folder, l2_reg_factor=0, dropout=0.5)"
      ]
    },
    {
      "cell_type": "code",
      "execution_count": 19,
      "metadata": {
        "id": "if8aKFWKmpxp"
      },
      "outputs": [],
      "source": [
        "labels = os.listdir('Land Application Data/training_data/labels')\n",
        "labels = [l.split('.')[0] for l in labels]\n",
        "image_path = '/gdrive/Shareddrives/land-app-public/test_data/classification_test/images'\n",
        "images = os.listdir(image_path)"
      ]
    },
    {
      "cell_type": "code",
      "execution_count": 20,
      "metadata": {
        "id": "WYMpZe52no1l"
      },
      "outputs": [],
      "source": [
        "loc_dict = {}\n",
        "for image in images:\n",
        "  loc = image.split('_')[1]\n",
        "  if loc in loc_dict:\n",
        "    loc_dict[loc].append(image)\n",
        "    loc_dict[loc] = sorted(loc_dict[loc])\n",
        "  else:\n",
        "    loc_dict[loc] = [image]"
      ]
    },
    {
      "cell_type": "code",
      "execution_count": 21,
      "metadata": {
        "colab": {
          "base_uri": "https://localhost:8080/",
          "height": 49,
          "referenced_widgets": [
            "0a731cc813f9428f9e233e350f093bc8",
            "56d40193deac4dc88627e650443339c4",
            "20b4f64f626243af9d0a97a48d5e9cf3",
            "cf2722560fed49ee962b078f2127d20b",
            "6f8d53aefcf1414db6c391241553b13f",
            "03860a1b7d0f44f3bd7a90d20fd01b53",
            "d33bfd9136fa4d7dbe4aa8ddac43fb48",
            "036a736d9fdc4480a0ebcbf83ad6b0cf",
            "a7c60ad662574ec887fe4caeba593f3e",
            "d8240a22fc27451c9113a19a8277b357",
            "c9023c1c7faa4d56a0e4855abe700e01"
          ]
        },
        "id": "ncGxV8rloIs6",
        "outputId": "e3bdab8f-f3b8-4fff-a9ca-a60040bafb74"
      },
      "outputs": [
        {
          "data": {
            "application/vnd.jupyter.widget-view+json": {
              "model_id": "0a731cc813f9428f9e233e350f093bc8",
              "version_major": 2,
              "version_minor": 0
            },
            "text/plain": [
              "  0%|          | 0/16 [00:00<?, ?it/s]"
            ]
          },
          "metadata": {},
          "output_type": "display_data"
        }
      ],
      "source": [
        "from sklearn.metrics import precision_recall_curve, auc\n",
        "image_size = (512, 512)\n",
        "img_height = image_size[1]\n",
        "img_width = image_size[0]\n",
        "def decode_img(img):\n",
        "  # convert the compressed string to a 3D uint8 tensor\n",
        "  img = tf.io.decode_png(img, channels=3)\n",
        "  # resize the image to the desired size\n",
        "  return tf.image.resize(img, [img_height, img_width])\n",
        "def load_img(file_path):\n",
        "  #label = get_label(file_path)\n",
        "  # load the raw data from the file as a string\n",
        "  img = tf.io.read_file(file_path)\n",
        "  img = decode_img(img)\n",
        "  return img\n",
        "\n",
        "precs = []\n",
        "recs = []\n",
        "scores_list = []\n",
        "actual_list = []\n",
        "\n",
        "for loc in tqdm(loc_dict):\n",
        "  images = loc_dict[loc]\n",
        "  for i in range(1, len(images)):\n",
        "    img0 = images[i-1]\n",
        "    img1 = images[i]\n",
        "    if img1.split('.')[0] in labels:\n",
        "      y =[1]\n",
        "    else:\n",
        "      y= [0]\n",
        "\n",
        "    x0 = load_img(os.path.join(image_path, img0))\n",
        "    x1 = load_img(os.path.join(image_path, img1))\n",
        "    \n",
        "    \n",
        "    output = model((x0[np.newaxis, ...], x1[np.newaxis,...]), training=False)\n",
        "\n",
        "    output= tf.math.sigmoid(output)\n",
        "    actual_list += y\n",
        "    scores_list += list(output.numpy())\n",
        "\n",
        "p,r,_ = precision_recall_curve(actual_list, scores_list)\n",
        "precs.append(p)\n",
        "recs.append(r)"
      ]
    },
    {
      "cell_type": "code",
      "execution_count": 22,
      "metadata": {
        "id": "IehDOB_mqfm6"
      },
      "outputs": [],
      "source": [
        "results_path = './'\n",
        "if not os.path.exists(results_path):\n",
        "  os.mkdir(results_path)\n",
        "np.save(results_path+'precisions.npy', precs[0])\n",
        "np.save(results_path+'recalls.npy', recs[0])\n",
        "np.save(results_path+'scores.npy', np.asarray(scores_list))\n",
        "np.save(results_path+'labels.npy', np.asarray(actual_list))"
      ]
    },
    {
      "cell_type": "code",
      "execution_count": 23,
      "metadata": {
        "colab": {
          "base_uri": "https://localhost:8080/",
          "height": 326
        },
        "id": "2HWMloJCuZIY",
        "outputId": "b148bbbf-b5cb-4f56-a154-be853f1ca0ff"
      },
      "outputs": [
        {
          "name": "stderr",
          "output_type": "stream",
          "text": [
            "WARNING:matplotlib.legend:No handles with labels found to put in legend.\n"
          ]
        },
        {
          "data": {
            "image/png": "[encoded data removed]",
            "text/plain": [
              "<Figure size 432x288 with 1 Axes>"
            ]
          },
          "metadata": {
            "needs_background": "light"
          },
          "output_type": "display_data"
        }
      ],
      "source": [
        "#PR curves at epoch 75\n",
        "fig, ax = plt.subplots(1,1)\n",
        "\n",
        "name = 'single_image_model4_0.5drop_filtering'\n",
        "#auc = auc(p, r)\n",
        "ax.plot(p, r,)# label='{}, auc {:.3f}'.format(name, auc))\n",
        "\n",
        "\n",
        "ax.legend()\n",
        "ax.set_xlabel(\"Recall\")\n",
        "ax.set_ylabel(\"Precision\")\n",
        "fig.suptitle(\"PR curve of best models\")\n",
        "fig.show()"
      ]
    }
  ],
  "metadata": {
    "accelerator": "GPU",
    "colab": {
      "collapsed_sections": [
        "n4eXSg321nj7",
        "7TgoQa5nqMD5",
        "rVhFftVk3G-e",
        "zywUhVbDlG35",
        "IhVAkaJ_ob34",
        "h6orvLc5X2Ge",
        "5SamYx1MYW_3",
        "VdMf-FelYciT",
        "5XYKLxypECwv",
        "gW7MrNxdVBJl",
        "TViSBsj7Ywm9"
      ],
      "provenance": []
    },
    "kernelspec": {
      "display_name": "Python 3",
      "name": "python3"
    },
    "language_info": {
      "name": "python"
    },
    "widgets": {
      "application/vnd.jupyter.widget-state+json": {
        "036a736d9fdc4480a0ebcbf83ad6b0cf": {
          "model_module": "@jupyter-widgets/base",
          "model_module_version": "1.2.0",
          "model_name": "LayoutModel",
          "state": {
            "_model_module": "@jupyter-widgets/base",
            "_model_module_version": "1.2.0",
            "_model_name": "LayoutModel",
            "_view_count": null,
            "_view_module": "@jupyter-widgets/base",
            "_view_module_version": "1.2.0",
            "_view_name": "LayoutView",
            "align_content": null,
            "align_items": null,
            "align_self": null,
            "border": null,
            "bottom": null,
            "display": null,
            "flex": null,
            "flex_flow": null,
            "grid_area": null,
            "grid_auto_columns": null,
            "grid_auto_flow": null,
            "grid_auto_rows": null,
            "grid_column": null,
            "grid_gap": null,
            "grid_row": null,
            "grid_template_areas": null,
            "grid_template_columns": null,
            "grid_template_rows": null,
            "height": null,
            "justify_content": null,
            "justify_items": null,
            "left": null,
            "margin": null,
            "max_height": null,
            "max_width": null,
            "min_height": null,
            "min_width": null,
            "object_fit": null,
            "object_position": null,
            "order": null,
            "overflow": null,
            "overflow_x": null,
            "overflow_y": null,
            "padding": null,
            "right": null,
            "top": null,
            "visibility": null,
            "width": null
          }
        },
        "03860a1b7d0f44f3bd7a90d20fd01b53": {
          "model_module": "@jupyter-widgets/base",
          "model_module_version": "1.2.0",
          "model_name": "LayoutModel",
          "state": {
            "_model_module": "@jupyter-widgets/base",
            "_model_module_version": "1.2.0",
            "_model_name": "LayoutModel",
            "_view_count": null,
            "_view_module": "@jupyter-widgets/base",
            "_view_module_version": "1.2.0",
            "_view_name": "LayoutView",
            "align_content": null,
            "align_items": null,
            "align_self": null,
            "border": null,
            "bottom": null,
            "display": null,
            "flex": null,
            "flex_flow": null,
            "grid_area": null,
            "grid_auto_columns": null,
            "grid_auto_flow": null,
            "grid_auto_rows": null,
            "grid_column": null,
            "grid_gap": null,
            "grid_row": null,
            "grid_template_areas": null,
            "grid_template_columns": null,
            "grid_template_rows": null,
            "height": null,
            "justify_content": null,
            "justify_items": null,
            "left": null,
            "margin": null,
            "max_height": null,
            "max_width": null,
            "min_height": null,
            "min_width": null,
            "object_fit": null,
            "object_position": null,
            "order": null,
            "overflow": null,
            "overflow_x": null,
            "overflow_y": null,
            "padding": null,
            "right": null,
            "top": null,
            "visibility": null,
            "width": null
          }
        },
        "0a731cc813f9428f9e233e350f093bc8": {
          "model_module": "@jupyter-widgets/controls",
          "model_module_version": "1.5.0",
          "model_name": "HBoxModel",
          "state": {
            "_dom_classes": [],
            "_model_module": "@jupyter-widgets/controls",
            "_model_module_version": "1.5.0",
            "_model_name": "HBoxModel",
            "_view_count": null,
            "_view_module": "@jupyter-widgets/controls",
            "_view_module_version": "1.5.0",
            "_view_name": "HBoxView",
            "box_style": "",
            "children": [
              "IPY_MODEL_56d40193deac4dc88627e650443339c4",
              "IPY_MODEL_20b4f64f626243af9d0a97a48d5e9cf3",
              "IPY_MODEL_cf2722560fed49ee962b078f2127d20b"
            ],
            "layout": "IPY_MODEL_6f8d53aefcf1414db6c391241553b13f"
          }
        },
        "20b4f64f626243af9d0a97a48d5e9cf3": {
          "model_module": "@jupyter-widgets/controls",
          "model_module_version": "1.5.0",
          "model_name": "FloatProgressModel",
          "state": {
            "_dom_classes": [],
            "_model_module": "@jupyter-widgets/controls",
            "_model_module_version": "1.5.0",
            "_model_name": "FloatProgressModel",
            "_view_count": null,
            "_view_module": "@jupyter-widgets/controls",
            "_view_module_version": "1.5.0",
            "_view_name": "ProgressView",
            "bar_style": "success",
            "description": "",
            "description_tooltip": null,
            "layout": "IPY_MODEL_036a736d9fdc4480a0ebcbf83ad6b0cf",
            "max": 16,
            "min": 0,
            "orientation": "horizontal",
            "style": "IPY_MODEL_a7c60ad662574ec887fe4caeba593f3e",
            "value": 16
          }
        },
        "56d40193deac4dc88627e650443339c4": {
          "model_module": "@jupyter-widgets/controls",
          "model_module_version": "1.5.0",
          "model_name": "HTMLModel",
          "state": {
            "_dom_classes": [],
            "_model_module": "@jupyter-widgets/controls",
            "_model_module_version": "1.5.0",
            "_model_name": "HTMLModel",
            "_view_count": null,
            "_view_module": "@jupyter-widgets/controls",
            "_view_module_version": "1.5.0",
            "_view_name": "HTMLView",
            "description": "",
            "description_tooltip": null,
            "layout": "IPY_MODEL_03860a1b7d0f44f3bd7a90d20fd01b53",
            "placeholder": "​",
            "style": "IPY_MODEL_d33bfd9136fa4d7dbe4aa8ddac43fb48",
            "value": "100%"
          }
        },
        "6f8d53aefcf1414db6c391241553b13f": {
          "model_module": "@jupyter-widgets/base",
          "model_module_version": "1.2.0",
          "model_name": "LayoutModel",
          "state": {
            "_model_module": "@jupyter-widgets/base",
            "_model_module_version": "1.2.0",
            "_model_name": "LayoutModel",
            "_view_count": null,
            "_view_module": "@jupyter-widgets/base",
            "_view_module_version": "1.2.0",
            "_view_name": "LayoutView",
            "align_content": null,
            "align_items": null,
            "align_self": null,
            "border": null,
            "bottom": null,
            "display": null,
            "flex": null,
            "flex_flow": null,
            "grid_area": null,
            "grid_auto_columns": null,
            "grid_auto_flow": null,
            "grid_auto_rows": null,
            "grid_column": null,
            "grid_gap": null,
            "grid_row": null,
            "grid_template_areas": null,
            "grid_template_columns": null,
            "grid_template_rows": null,
            "height": null,
            "justify_content": null,
            "justify_items": null,
            "left": null,
            "margin": null,
            "max_height": null,
            "max_width": null,
            "min_height": null,
            "min_width": null,
            "object_fit": null,
            "object_position": null,
            "order": null,
            "overflow": null,
            "overflow_x": null,
            "overflow_y": null,
            "padding": null,
            "right": null,
            "top": null,
            "visibility": null,
            "width": null
          }
        },
        "a7c60ad662574ec887fe4caeba593f3e": {
          "model_module": "@jupyter-widgets/controls",
          "model_module_version": "1.5.0",
          "model_name": "ProgressStyleModel",
          "state": {
            "_model_module": "@jupyter-widgets/controls",
            "_model_module_version": "1.5.0",
            "_model_name": "ProgressStyleModel",
            "_view_count": null,
            "_view_module": "@jupyter-widgets/base",
            "_view_module_version": "1.2.0",
            "_view_name": "StyleView",
            "bar_color": null,
            "description_width": ""
          }
        },
        "c9023c1c7faa4d56a0e4855abe700e01": {
          "model_module": "@jupyter-widgets/controls",
          "model_module_version": "1.5.0",
          "model_name": "DescriptionStyleModel",
          "state": {
            "_model_module": "@jupyter-widgets/controls",
            "_model_module_version": "1.5.0",
            "_model_name": "DescriptionStyleModel",
            "_view_count": null,
            "_view_module": "@jupyter-widgets/base",
            "_view_module_version": "1.2.0",
            "_view_name": "StyleView",
            "description_width": ""
          }
        },
        "cf2722560fed49ee962b078f2127d20b": {
          "model_module": "@jupyter-widgets/controls",
          "model_module_version": "1.5.0",
          "model_name": "HTMLModel",
          "state": {
            "_dom_classes": [],
            "_model_module": "@jupyter-widgets/controls",
            "_model_module_version": "1.5.0",
            "_model_name": "HTMLModel",
            "_view_count": null,
            "_view_module": "@jupyter-widgets/controls",
            "_view_module_version": "1.5.0",
            "_view_name": "HTMLView",
            "description": "",
            "description_tooltip": null,
            "layout": "IPY_MODEL_d8240a22fc27451c9113a19a8277b357",
            "placeholder": "​",
            "style": "IPY_MODEL_c9023c1c7faa4d56a0e4855abe700e01",
            "value": " 16/16 [01:30&lt;00:00,  5.14s/it]"
          }
        },
        "d33bfd9136fa4d7dbe4aa8ddac43fb48": {
          "model_module": "@jupyter-widgets/controls",
          "model_module_version": "1.5.0",
          "model_name": "DescriptionStyleModel",
          "state": {
            "_model_module": "@jupyter-widgets/controls",
            "_model_module_version": "1.5.0",
            "_model_name": "DescriptionStyleModel",
            "_view_count": null,
            "_view_module": "@jupyter-widgets/base",
            "_view_module_version": "1.2.0",
            "_view_name": "StyleView",
            "description_width": ""
          }
        },
        "d8240a22fc27451c9113a19a8277b357": {
          "model_module": "@jupyter-widgets/base",
          "model_module_version": "1.2.0",
          "model_name": "LayoutModel",
          "state": {
            "_model_module": "@jupyter-widgets/base",
            "_model_module_version": "1.2.0",
            "_model_name": "LayoutModel",
            "_view_count": null,
            "_view_module": "@jupyter-widgets/base",
            "_view_module_version": "1.2.0",
            "_view_name": "LayoutView",
            "align_content": null,
            "align_items": null,
            "align_self": null,
            "border": null,
            "bottom": null,
            "display": null,
            "flex": null,
            "flex_flow": null,
            "grid_area": null,
            "grid_auto_columns": null,
            "grid_auto_flow": null,
            "grid_auto_rows": null,
            "grid_column": null,
            "grid_gap": null,
            "grid_row": null,
            "grid_template_areas": null,
            "grid_template_columns": null,
            "grid_template_rows": null,
            "height": null,
            "justify_content": null,
            "justify_items": null,
            "left": null,
            "margin": null,
            "max_height": null,
            "max_width": null,
            "min_height": null,
            "min_width": null,
            "object_fit": null,
            "object_position": null,
            "order": null,
            "overflow": null,
            "overflow_x": null,
            "overflow_y": null,
            "padding": null,
            "right": null,
            "top": null,
            "visibility": null,
            "width": null
          }
        }
      }
    }
  },
  "nbformat": 4,
  "nbformat_minor": 0
}
