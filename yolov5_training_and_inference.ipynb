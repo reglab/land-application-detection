{
 "cells": [
  {
   "cell_type": "code",
   "execution_count": null,
   "metadata": {
    "colab": {
     "base_uri": "https://localhost:8080/"
    },
    "id": "9jEJYL9upa-v",
    "outputId": "f5d86865-2929-4103-b679-a00e41f8560c"
   },
   "outputs": [],
   "source": [
    "from google.colab import drive\n",
    "drive.mount('/gdrive')"
   ]
  },
  {
   "cell_type": "markdown",
   "metadata": {
    "id": "lBIR1Ap-ps5v"
   },
   "source": [
    "# Grab Codebase"
   ]
  },
  {
   "cell_type": "code",
   "execution_count": null,
   "metadata": {
    "colab": {
     "base_uri": "https://localhost:8080/"
    },
    "id": "6Eh7_JjAph_B",
    "outputId": "67dda10f-fffc-49e0-a99a-86c442d4f802"
   },
   "outputs": [],
   "source": [
    "!git clone https://github.com/ultralytics/yolov5  # clone repo\n",
    "%cd yolov5\n",
    "%pip install -qr requirements.txt # install dependencies\n",
    "\n",
    "import torch\n",
    "import os\n",
    "from IPython.display import Image, clear_output  # to display images\n",
    "\n",
    "print(f\"Setup complete. Using torch {torch.__version__} ({torch.cuda.get_device_properties(0).name if torch.cuda.is_available() else 'CPU'})\")"
   ]
  },
  {
   "cell_type": "markdown",
   "metadata": {},
   "source": [
    "# Training"
   ]
  },
  {
   "cell_type": "code",
   "execution_count": null,
   "metadata": {
    "colab": {
     "base_uri": "https://localhost:8080/"
    },
    "id": "Y2dkuK7u227g",
    "outputId": "7571e077-bf7e-432c-f5ac-aeee4626cacf"
   },
   "outputs": [],
   "source": [
    "!python train.py --img 640 --batch 16 --epochs 100 --data /YOUR-DATAPATH/data_by_year.yaml --project /YOUR-DATAPATH/runs/train --weights yolov5l.pt --cache --single-cls"
   ]
  },
  {
   "cell_type": "code",
   "execution_count": null,
   "metadata": {
    "id": "AI0SB-vY01KD"
   },
   "outputs": [],
   "source": [
    "from utils.plots import plot_results\n",
    "plot_results('/gdrive/MyDrive/yolov5-land-app-model/runs/train/exp8/results.csv')"
   ]
  },
  {
   "cell_type": "code",
   "execution_count": null,
   "metadata": {
    "colab": {
     "base_uri": "https://localhost:8080/"
    },
    "id": "i9FVKDNi3zAX",
    "outputId": "e06594f8-4fa6-49ca-d689-72e61200f00b"
   },
   "outputs": [],
   "source": [
    "!python val.py --task test --img 640 --batch 16 --data /YOUR-DATAPATH/data.yaml  --weights /YOUR-DATAPATH/runs/train/exp/weights/best.pt --single-cls --project /YOUR-DATAPATH/runs/test/"
   ]
  },
  {
   "cell_type": "markdown",
   "metadata": {
    "id": "R32ovFVgAzKe"
   },
   "source": [
    "# Inference"
   ]
  },
  {
   "cell_type": "code",
   "execution_count": null,
   "metadata": {
    "id": "wjQsjDdBEdMD"
   },
   "outputs": [],
   "source": [
    "import glob \n",
    "import shutil "
   ]
  },
  {
   "cell_type": "code",
   "execution_count": null,
   "metadata": {
    "id": "rmvMDja3AyuW"
   },
   "outputs": [],
   "source": [
    "!python detect.py --source '{os.path.join(classification_pth, \"images\")}' --weights /DATAPATH/runs/train/exp6/weights/best.pt --data /gdrive/Shareddrives/land-app-groundtruth/boxing_task/data.yaml --project /DATAPATH/runs/detect/ --save-txt --save-conf --conf-thres 0.01"
   ]
  }
 ],
 "metadata": {
  "accelerator": "GPU",
  "colab": {
   "collapsed_sections": [],
   "name": " YOLOv5_land_app_detection.ipynb",
   "provenance": []
  },
  "kernelspec": {
   "display_name": "Python 3 (ipykernel)",
   "language": "python",
   "name": "python3"
  },
  "language_info": {
   "codemirror_mode": {
    "name": "ipython",
    "version": 3
   },
   "file_extension": ".py",
   "mimetype": "text/x-python",
   "name": "python",
   "nbconvert_exporter": "python",
   "pygments_lexer": "ipython3",
   "version": "3.9.12"
  }
 },
 "nbformat": 4,
 "nbformat_minor": 1
}
